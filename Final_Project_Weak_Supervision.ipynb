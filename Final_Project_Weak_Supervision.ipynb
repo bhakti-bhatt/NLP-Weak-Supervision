{
  "cells": [
    {
      "cell_type": "markdown",
      "metadata": {
        "id": "Im0dQMotc86L"
      },
      "source": [
        "# Title: skweak: Weak Supervision Made Easy for NLP\n",
        "\n",
        "#### Members' Names : Bhakti Bhatt & Yashi Garg\n",
        "\n",
        "####  Emails: bhakti.bhatt@ryerson.ca & yashi.garg@ryerson.ca"
      ]
    },
    {
      "cell_type": "markdown",
      "metadata": {
        "id": "sGYeakZpboqQ"
      },
      "source": [
        "# Introduction:\n",
        "\n",
        "#### Problem Description:\n",
        "\n",
        "In NLP, accurately labeled data is scarce when dealing with specialized domains and internal business initiatives. NLP projects undertaken by businesses often deal with the lack of labeled data – especially when the business defines domain specific (e.g. internal) labels and cannot make use of pre-existing resources. In many cases, there is a need to rely on massive sets of hand-labeled domain-specific training data or large pre-trained language models.\n",
        "\n",
        "#### Context of the Problem:\n",
        "\n",
        "In the modern world, there is infinite availability of text document. Unfortunately, there is huge scarcity of meaningful labeled data. This issue magnifies in resource-poor languages and/or uncommon textual domains, also extended to projects without pre-existing datasets.\n",
        "\n",
        "This problem is important as Machine Learning Models require labeled data for supervised learning, and the scarcity of acurately labeled data makes it difficult to train these models.\n",
        "\n",
        "#### Limitation About other Approaches:\n",
        "\n",
        "There are many ways to get more labeled training data however each have their own drawbacks.\n",
        "\n",
        "\n",
        "\n",
        "*   **Traditional Supervision (Hand-Labeled Data by Subject Matter Experts (SMEs))**\n",
        "\n",
        "     Hand-labeled training datasets are expensive and time-consuming to create, and are not able to swiftly accommodate to change if new labelling guidelines are introduced. For example, if a new domain-specific label was introduced, a full review of the training data set would be required by SMEs.\n",
        "\n",
        "\n",
        "*   **Semi-supervised Learning (Use of structural assumptions on unlabeled data)**\n",
        "\n",
        "     The semi-supervised learning approach takes a small labelled dataset and a large unlabelled dataset to extract structural assumptions. However, it needs some labeled data. \n",
        "\n",
        "*\t**Transfer Learning (Use of pre-trained models)**\n",
        "\n",
        "     Transfer Learning makes use of already existing pre-trained models and fine-tunes them on a different task. However, transfer learning only works if the initial and target problems are similar enough for the first round of training to be relevant. This is often not the case in cross sector NLP projects. \n",
        "\n",
        "\n",
        "#### Solution:\n",
        "\n",
        "The solution to these problems is provided by the weak supervision paradigm. Weak Supervision saves the time that is required to label data by hand. It takes, as input, noisy/conflicting/less accurate data, then aggregates the data to provide a single output of labels without conflicts. This aggeregated data can then be used to train an NLP model for sentiment analysis and named entity recognition. The skweak framework relies on weak supervision to **programmatically label data points** through a collection of labelling functions which are discussed further in this report. "
      ]
    },
    {
      "cell_type": "markdown",
      "metadata": {
        "id": "PphTmuO5c86q"
      },
      "source": [
        "# Background\n",
        "\n",
        "\n",
        "| Reference |Explanation |  Dataset/Input |Weakness\n",
        "| --- | --- | --- | --- |\n",
        "| Ratner et al. [1] | Snorkel implementation of weak supervision combines various supervision sources using a generative model. | Labelling Functions, Pre-trained Discriminative Models | One drawback is that Snorkel requires datapoints to be independent, making it difficult to apply to sequence labelling tasks. This is improved in the skweak implementation. Future outlook comprises of increasing unification with transfer learning and implementation of a multi-task weak supervision to accomodate noisy data. \n",
        "| Fries et al. [2] | The Swellshark impmelentation of weak supervision is optimised for biomedical Named Entity Recognition (NER). | Labelling Functions, Pre-trained Discriminative Models | Swellshark relies on a separate, ad-hoc mechanism to generate in-line labels.\n",
        "| Fu et. al [3] | The FlyingSquid implementation of weak supervision uses an approach called triplet methods which is fast and applicable to structured prediction problems. | Labelling Functions | The aggregation model of FlyingSquid focuses on estimating the accuracies of each labelling function and is therefore difficult to apply to problems where labelling sources have varying precision/recall trade-offs.\n",
        "| Safranchik et. al [4] | The Safranchik paper mentions a model based on linked hidden Markov models (HMM). This is closely related to skweak. | Tagging Rules, Linking Rules | Compared to skweak, the Safranchik paper does not provide the ability to include document level constraints.\n",
        "| Lison et. al [5] | The skweak implementation of weak supervision aggregates the input data & models using an HMM model. It also allows the input of document level constraints to generalize the labels at the document level as opposed to the token level. | Labelling Functions, Pre-trained Discriminative Models, Document-level constraints | Similar to the mature implementation of Snorkel, skweak can look to implement semi-supervised learning approches into their current implementation, and further more implement multi-task weak supervision."
      ]
    },
    {
      "cell_type": "markdown",
      "metadata": {
        "id": "paVH5BIRcAPD"
      },
      "source": [
        "# Methodology\n",
        "\n",
        "Skweak allows users to define labelling functions that automatically annotate text documents from the target domain. The results of those labelling functions are then aggregated into one single annotation layer using a generative model.\n",
        "\n",
        "\n",
        "<img src='/content/skweak_procedure.PNG'>\n",
        "\n",
        "\n",
        "As shown above, there are thre primary steps required to be followed to use the sweak library.\n",
        "\n",
        "**Start: Preprocessing**\n",
        "\n",
        "Prepare the (unlabelled) corpus onto which the labelling functions will be applied. As skweak is build on top of SpaCy, it operates with Spacy Doc objects, so to preprocess the data successfully, the input data needs to be converted to Doc objects with spaCy.\n",
        "\n",
        "spaCy is a free, open-source library for advanced Natural Language Processing (NLP) in Python and is designed to help build NLP systems.The spaCy library is foundational to all the code for skweak.\n",
        "\n",
        "**Step 1: Labelling functions**\n",
        "\n",
        "The first step requires one to define labelling functions. One can think of labelling functions as \"enablers\" that help ML models be more self-sufficient for learning.\n",
        "\n",
        "The goal of labelling functions is to take spaCy doc objects as input and annotate spans with labels.Note that a Token refers to a single word, punctuation symbol, whitespace, etc. from a document, while a Span is an ordered sequence of Tokens. \n",
        "\n",
        "There are different types of labelling functions that skweak supports.\n",
        "\n",
        "1. **Heuristics**\n",
        "\n",
        "     Heuristics are known to be rule-based labelling functions making them the simplest form of labelling functions. An example would be when a heuristic is created to detect entities of type COMPANY, then it would simply search for text spans ending with a legal company type (such as “Inc.”).\n",
        "     \n",
        "     To build a heuristic, define a Python function that take a SpaCy Doc object as input and returns the labelled spans. An example is shown below:\n",
        "\n",
        "       def money_detector(doc):\n",
        "          \"\"\"Searches for occurrences of MONEY entities in text\"\"\"\n",
        "          for tok in doc[1:]:\n",
        "            # check for whether the token in the document is a digit\n",
        "            # and if the previous token is is a currency symbol\n",
        "             if (tok.text[0].isdigit() and tok.nbor(-1).is_currency):\n",
        "                  # return the sequence of tokens (span) & their label\n",
        "                  yield tok.i-1, tok.i+1, \"MONEY\"\n",
        "\n",
        "2. **Machine learning models**\n",
        "\n",
        "     Skweak also supports the input of machine learning models. Typically, those models will be trained on data from related domains, thereby leading to some form of transfer learning across domains. \n",
        "\n",
        "     Let's take a look at a quick example on how a Machine Learning Model can be taken as input in skweak. Below we define two pre-trained models.\n",
        "     * en_core_web_md is the standard Spacy model for English, trained on Ontonotes v5 which has over 18 classes including, but not limited to, PERSON, ORG, MONEY, DATE, GPE (geopolitical locations), LOC (\"natural locations\" such as continents, seas, etc.), CARDINAL, ORDINAL, QUALTITY, etc. The full list of labels can be found here: https://github.com/explosion/spacy-models/blob/master/meta/en_core_web_md-3.2.0.json.\n",
        "\n",
        "     * conll2003 is another language model pre-trained for NER. It also has a multiple labels including PER(SON), ORG, MISC, LOC It has https://www.clips.uantwerpen.be/conll2003/ner/\n",
        "\n",
        "  We can apply annotations from a Spacy model using the ModelAnnotator class. As input, the Model Annotator takes the name and path of a pre-trained model. The model is then run on spaCy doc objects and it returns the annotated documents. \n",
        "\n",
        "       # apply annotations from the core_web_md pre-trained model\n",
        "       core_web_annotator = skweak.spacy.ModelAnnotator(\"core_web_md\", \"en_core_web_md\")\n",
        "       doc = core_web_annotator(doc)\n",
        "\n",
        "       # the annotations are stored in the spans of the annotated docs\n",
        "       [(ent, ent.label_) for ent in doc.spans[\"core_web_md\"]]\n",
        "       \n",
        "       # apply annotations from the conll2003 pre-trained model\n",
        "       annotator = skweak.spacy.ModelAnnotator(\"conll2003\", \"/content/conll2003/\")\n",
        "       doc = annotator(doc)\n",
        "       \n",
        "       # the annotations are stored in the spans of the annotated docs\n",
        "       [(ent, ent.label_) for ent in doc.spans[\"conll2003\"]]\n",
        "     \n",
        "      Note there are differences between the entity labels of these models: while core_web_md has greater than 18 classes, conll2003 only contains PER(SON), ORG, LOC and MISC. Furthermore, the labels also do not match each other perfectly: while Ontonotes distinguishes between geopolitical locations (GPE) and \"natural\" locations (such as continents, seas etc., labelled as LOC), conll2003 groups all geographical entities as LOC. \n",
        "      \n",
        "      There is no need to worry if the input data is conflicting, in fact any weak supervision model is expected to take noisy data as input with the final goal to de-noise the data. Similary, the aim of skweak is to generate a large amount of training data in a short period to time by taking noisy/conflicting data and resolving the conflicts in the aggregation layer, which is discussed further on. \n",
        "\n",
        "3. **Gazetteers**\n",
        "     \n",
        "     Gazetteers are functions that search for entities in a document, by cross referencing a list of words or phrases from a different source. For example, Geonames is a geographical database that contains over eleven million placenames that are available for download online. A gazetteer labelling function can be created to search within a doc object for any placenames and label them as \"LOC\". In general, a gazetteer is helpful when searching for names of persons, organisations and locations by cross-referencing external sources. \n",
        "\n",
        "     There are many such external sources that can be used to build gazetteers, and some examples aare implemented in the src/NER_step_by_step.ipynb file: PRODUCT NAMES, GEONAMES, CRUNCHBASE (includes a list of company names and business persons), WIKIDATA (includes annotations for PER, LOC, GPE, ORG, PRODUCT).\n",
        "\n",
        "     \n",
        "4. **Document-level functions**\n",
        "     \n",
        "     A functionality unique to skweak, as opposed to other Weak Supervision libraries, is that it provides the ability to create document-level labelling functions that rely on the global document context to produce a label. In particular the document level functions allow:\n",
        "\n",
        "    * If a person's name has been mentioned in full (at least two consecutive tokens, most often first name followed by last name), then mark future occurrences of the last token (last name) as a PER as well. \n",
        "    * If an organisation has been mentioned together with a legal type, mark all other occurrences (possibly without the legal type at the end) also as a COMPANY.\n",
        "\n",
        "All the labelling functions have to be applied to your corpus prior to moving onto the next step. By doing so, you will have generated (token/span, label) which will later be aggregated.\n",
        "\n",
        " Once the labelling functions have been applied to your corpus, we aggregate their results in order to obtain a single, probabilistic annotation (instead of the multiple, possibly conflicting annotations from the labelling functions).\n",
        "\n",
        "**Step 2: Aggregation model**\n",
        "\n",
        "A generative model (HMM) is used for the purpose of aggregating labelled tokens/spans.Depending on the task at hand, the Aggregators defined in skweak will use either the HMM model or the Naive Bayes model. As we do not have access to labelled data for the target domain, the model parameters are estimated in a fully unsupervised manner.\n",
        "\n",
        "The aggregation model has the following components:\n",
        "\n",
        "* List of j labeling functions {λ1, ...λj} \n",
        "* List of labels that can be produced by labeling functions {l1, ... lL} \n",
        "* List of observations Yij - annotations from each labeling function\n",
        "* List of tokens/spans i  ∈ {1, ... n}\n",
        "* List of S states for the tokens/spans (i.e. the true (hidden) labels for each token) {l1, ...lS}\n",
        "\n",
        "and the respective probability distributions: \n",
        "\n",
        "* initial probabilities of the label on a token/span\n",
        "* transition probability matrix of moving from one token/span to another\n",
        "* emission/output probability matrix (one for each labelling function)\n",
        "\n",
        "To initialise the HMM model, at minimum, it requires the above parameters to be estimated. The initial transition probabilities are estimated using a Majority Voter (MV) mechanism that predicts the most likely labels based on the “votes” for each label, where each labelling function corresponds to a voter. Similarly, the emission probabilities are also estaimated using the majority voter technique. An emission probability matrix is created for each labeling function.The transition matrix is essentially the adjacency matrix we learned in class, of size |S| X |S| (e.g. |tokens| X |tokens|) and would be flagged with 1 when a valid transition from token/span A to B exists.\n",
        "\n",
        "Once the parameters of the model are identified, we can fit the aggregation model to the estimated parameters and get the desired output: **aggregated labels**. The logical next step would be to optimize the parameters. For this, we run through several forward-backward passes of the Baum-Welch, a variant of the Expectation Maximization (EM) algorithm to to get what we call the best-model. The Baum–Welch algorithm is a special case of the EM algorithm and it is used to find the unknown parameters of a hidden Markov model (HMM).\n",
        "\n",
        "**Step 3: Train Final model**\n",
        "\n",
        "Finally, based on those aggregated labels, we train our final model. Step 2 gives us a labelled corpus that (probabilistically) aggregates the outputs of all labelling functions, and you can use this labelled data to estimate any kind of machine learning model. You can either re-train your data on the best-model that was output through the EM iterations, or train your own NER model."
      ]
    },
    {
      "cell_type": "markdown",
      "metadata": {
        "id": "ypVCyalZc860"
      },
      "source": [
        "# Implementation"
      ]
    },
    {
      "cell_type": "markdown",
      "source": [
        "#### Install all required libraries\n",
        "\n",
        "\n",
        "* skweak is the implementation of weak supervision.\n",
        "* SpaCy is one of the key libraries used in NLP to understand larger texts.\n",
        "* en_code_web_sm and en_core_web_md are english vocabulary ore-trained datasets.\n"
      ],
      "metadata": {
        "id": "RKcZVKo6dWAG"
      }
    },
    {
      "cell_type": "code",
      "source": [
        "pip install skweak"
      ],
      "metadata": {
        "id": "rYIOg55udNdB",
        "colab": {
          "base_uri": "https://localhost:8080/"
        },
        "outputId": "115dbb73-a60d-4f6e-b499-fd54197bd806"
      },
      "execution_count": 47,
      "outputs": [
        {
          "output_type": "stream",
          "name": "stdout",
          "text": [
            "Requirement already satisfied: skweak in /usr/local/lib/python3.7/dist-packages (0.3.1)\n",
            "Requirement already satisfied: hmmlearn>=0.2 in /usr/local/lib/python3.7/dist-packages (from skweak) (0.2.7)\n",
            "Requirement already satisfied: spacy>=3.0 in /usr/local/lib/python3.7/dist-packages (from skweak) (3.2.4)\n",
            "Requirement already satisfied: numpy>=1.18 in /usr/local/lib/python3.7/dist-packages (from skweak) (1.21.6)\n",
            "Requirement already satisfied: pandas>=0.23 in /usr/local/lib/python3.7/dist-packages (from skweak) (1.3.5)\n",
            "Requirement already satisfied: scipy>=0.19 in /usr/local/lib/python3.7/dist-packages (from hmmlearn>=0.2->skweak) (1.4.1)\n",
            "Requirement already satisfied: scikit-learn>=0.16 in /usr/local/lib/python3.7/dist-packages (from hmmlearn>=0.2->skweak) (1.0.2)\n",
            "Requirement already satisfied: pytz>=2017.3 in /usr/local/lib/python3.7/dist-packages (from pandas>=0.23->skweak) (2022.1)\n",
            "Requirement already satisfied: python-dateutil>=2.7.3 in /usr/local/lib/python3.7/dist-packages (from pandas>=0.23->skweak) (2.8.2)\n",
            "Requirement already satisfied: six>=1.5 in /usr/local/lib/python3.7/dist-packages (from python-dateutil>=2.7.3->pandas>=0.23->skweak) (1.15.0)\n",
            "Requirement already satisfied: threadpoolctl>=2.0.0 in /usr/local/lib/python3.7/dist-packages (from scikit-learn>=0.16->hmmlearn>=0.2->skweak) (3.1.0)\n",
            "Requirement already satisfied: joblib>=0.11 in /usr/local/lib/python3.7/dist-packages (from scikit-learn>=0.16->hmmlearn>=0.2->skweak) (1.1.0)\n",
            "Requirement already satisfied: pathy>=0.3.5 in /usr/local/lib/python3.7/dist-packages (from spacy>=3.0->skweak) (0.6.1)\n",
            "Requirement already satisfied: preshed<3.1.0,>=3.0.2 in /usr/local/lib/python3.7/dist-packages (from spacy>=3.0->skweak) (3.0.6)\n",
            "Requirement already satisfied: blis<0.8.0,>=0.4.0 in /usr/local/lib/python3.7/dist-packages (from spacy>=3.0->skweak) (0.4.1)\n",
            "Requirement already satisfied: jinja2 in /usr/local/lib/python3.7/dist-packages (from spacy>=3.0->skweak) (2.11.3)\n",
            "Requirement already satisfied: catalogue<2.1.0,>=2.0.6 in /usr/local/lib/python3.7/dist-packages (from spacy>=3.0->skweak) (2.0.7)\n",
            "Requirement already satisfied: requests<3.0.0,>=2.13.0 in /usr/local/lib/python3.7/dist-packages (from spacy>=3.0->skweak) (2.23.0)\n",
            "Requirement already satisfied: pydantic!=1.8,!=1.8.1,<1.9.0,>=1.7.4 in /usr/local/lib/python3.7/dist-packages (from spacy>=3.0->skweak) (1.8.2)\n",
            "Requirement already satisfied: wasabi<1.1.0,>=0.8.1 in /usr/local/lib/python3.7/dist-packages (from spacy>=3.0->skweak) (0.9.1)\n",
            "Requirement already satisfied: setuptools in /usr/local/lib/python3.7/dist-packages (from spacy>=3.0->skweak) (57.4.0)\n",
            "Requirement already satisfied: typer<0.5.0,>=0.3.0 in /usr/local/lib/python3.7/dist-packages (from spacy>=3.0->skweak) (0.4.1)\n",
            "Requirement already satisfied: cymem<2.1.0,>=2.0.2 in /usr/local/lib/python3.7/dist-packages (from spacy>=3.0->skweak) (2.0.6)\n",
            "Requirement already satisfied: click<8.1.0 in /usr/local/lib/python3.7/dist-packages (from spacy>=3.0->skweak) (7.1.2)\n",
            "Requirement already satisfied: langcodes<4.0.0,>=3.2.0 in /usr/local/lib/python3.7/dist-packages (from spacy>=3.0->skweak) (3.3.0)\n",
            "Requirement already satisfied: packaging>=20.0 in /usr/local/lib/python3.7/dist-packages (from spacy>=3.0->skweak) (21.3)\n",
            "Requirement already satisfied: typing-extensions<4.0.0.0,>=3.7.4 in /usr/local/lib/python3.7/dist-packages (from spacy>=3.0->skweak) (3.10.0.2)\n",
            "Requirement already satisfied: srsly<3.0.0,>=2.4.1 in /usr/local/lib/python3.7/dist-packages (from spacy>=3.0->skweak) (2.4.3)\n",
            "Requirement already satisfied: tqdm<5.0.0,>=4.38.0 in /usr/local/lib/python3.7/dist-packages (from spacy>=3.0->skweak) (4.64.0)\n",
            "Requirement already satisfied: murmurhash<1.1.0,>=0.28.0 in /usr/local/lib/python3.7/dist-packages (from spacy>=3.0->skweak) (1.0.6)\n",
            "Requirement already satisfied: thinc<8.1.0,>=8.0.12 in /usr/local/lib/python3.7/dist-packages (from spacy>=3.0->skweak) (8.0.15)\n",
            "Requirement already satisfied: spacy-legacy<3.1.0,>=3.0.8 in /usr/local/lib/python3.7/dist-packages (from spacy>=3.0->skweak) (3.0.9)\n",
            "Requirement already satisfied: spacy-loggers<2.0.0,>=1.0.0 in /usr/local/lib/python3.7/dist-packages (from spacy>=3.0->skweak) (1.0.2)\n",
            "Requirement already satisfied: zipp>=0.5 in /usr/local/lib/python3.7/dist-packages (from catalogue<2.1.0,>=2.0.6->spacy>=3.0->skweak) (3.8.0)\n",
            "Requirement already satisfied: pyparsing!=3.0.5,>=2.0.2 in /usr/local/lib/python3.7/dist-packages (from packaging>=20.0->spacy>=3.0->skweak) (3.0.8)\n",
            "Requirement already satisfied: smart-open<6.0.0,>=5.0.0 in /usr/local/lib/python3.7/dist-packages (from pathy>=0.3.5->spacy>=3.0->skweak) (5.2.1)\n",
            "Requirement already satisfied: urllib3!=1.25.0,!=1.25.1,<1.26,>=1.21.1 in /usr/local/lib/python3.7/dist-packages (from requests<3.0.0,>=2.13.0->spacy>=3.0->skweak) (1.24.3)\n",
            "Requirement already satisfied: certifi>=2017.4.17 in /usr/local/lib/python3.7/dist-packages (from requests<3.0.0,>=2.13.0->spacy>=3.0->skweak) (2021.10.8)\n",
            "Requirement already satisfied: idna<3,>=2.5 in /usr/local/lib/python3.7/dist-packages (from requests<3.0.0,>=2.13.0->spacy>=3.0->skweak) (2.10)\n",
            "Requirement already satisfied: chardet<4,>=3.0.2 in /usr/local/lib/python3.7/dist-packages (from requests<3.0.0,>=2.13.0->spacy>=3.0->skweak) (3.0.4)\n",
            "Requirement already satisfied: MarkupSafe>=0.23 in /usr/local/lib/python3.7/dist-packages (from jinja2->spacy>=3.0->skweak) (2.0.1)\n"
          ]
        }
      ]
    },
    {
      "cell_type": "code",
      "execution_count": 48,
      "metadata": {
        "id": "W2PIp-ZAc862",
        "colab": {
          "base_uri": "https://localhost:8080/"
        },
        "outputId": "ce561e37-0ce0-41ed-9829-b52acff08867"
      },
      "outputs": [
        {
          "output_type": "stream",
          "name": "stdout",
          "text": [
            "Requirement already satisfied: spacy in /usr/local/lib/python3.7/dist-packages (3.2.4)\n",
            "Requirement already satisfied: typing-extensions<4.0.0.0,>=3.7.4 in /usr/local/lib/python3.7/dist-packages (from spacy) (3.10.0.2)\n",
            "Requirement already satisfied: numpy>=1.15.0 in /usr/local/lib/python3.7/dist-packages (from spacy) (1.21.6)\n",
            "Requirement already satisfied: setuptools in /usr/local/lib/python3.7/dist-packages (from spacy) (57.4.0)\n",
            "Requirement already satisfied: preshed<3.1.0,>=3.0.2 in /usr/local/lib/python3.7/dist-packages (from spacy) (3.0.6)\n",
            "Requirement already satisfied: pathy>=0.3.5 in /usr/local/lib/python3.7/dist-packages (from spacy) (0.6.1)\n",
            "Requirement already satisfied: spacy-loggers<2.0.0,>=1.0.0 in /usr/local/lib/python3.7/dist-packages (from spacy) (1.0.2)\n",
            "Requirement already satisfied: click<8.1.0 in /usr/local/lib/python3.7/dist-packages (from spacy) (7.1.2)\n",
            "Requirement already satisfied: blis<0.8.0,>=0.4.0 in /usr/local/lib/python3.7/dist-packages (from spacy) (0.4.1)\n",
            "Requirement already satisfied: wasabi<1.1.0,>=0.8.1 in /usr/local/lib/python3.7/dist-packages (from spacy) (0.9.1)\n",
            "Requirement already satisfied: spacy-legacy<3.1.0,>=3.0.8 in /usr/local/lib/python3.7/dist-packages (from spacy) (3.0.9)\n",
            "Requirement already satisfied: cymem<2.1.0,>=2.0.2 in /usr/local/lib/python3.7/dist-packages (from spacy) (2.0.6)\n",
            "Requirement already satisfied: jinja2 in /usr/local/lib/python3.7/dist-packages (from spacy) (2.11.3)\n",
            "Requirement already satisfied: thinc<8.1.0,>=8.0.12 in /usr/local/lib/python3.7/dist-packages (from spacy) (8.0.15)\n",
            "Requirement already satisfied: typer<0.5.0,>=0.3.0 in /usr/local/lib/python3.7/dist-packages (from spacy) (0.4.1)\n",
            "Requirement already satisfied: langcodes<4.0.0,>=3.2.0 in /usr/local/lib/python3.7/dist-packages (from spacy) (3.3.0)\n",
            "Requirement already satisfied: packaging>=20.0 in /usr/local/lib/python3.7/dist-packages (from spacy) (21.3)\n",
            "Requirement already satisfied: srsly<3.0.0,>=2.4.1 in /usr/local/lib/python3.7/dist-packages (from spacy) (2.4.3)\n",
            "Requirement already satisfied: requests<3.0.0,>=2.13.0 in /usr/local/lib/python3.7/dist-packages (from spacy) (2.23.0)\n",
            "Requirement already satisfied: pydantic!=1.8,!=1.8.1,<1.9.0,>=1.7.4 in /usr/local/lib/python3.7/dist-packages (from spacy) (1.8.2)\n",
            "Requirement already satisfied: catalogue<2.1.0,>=2.0.6 in /usr/local/lib/python3.7/dist-packages (from spacy) (2.0.7)\n",
            "Requirement already satisfied: tqdm<5.0.0,>=4.38.0 in /usr/local/lib/python3.7/dist-packages (from spacy) (4.64.0)\n",
            "Requirement already satisfied: murmurhash<1.1.0,>=0.28.0 in /usr/local/lib/python3.7/dist-packages (from spacy) (1.0.6)\n",
            "Requirement already satisfied: zipp>=0.5 in /usr/local/lib/python3.7/dist-packages (from catalogue<2.1.0,>=2.0.6->spacy) (3.8.0)\n",
            "Requirement already satisfied: pyparsing!=3.0.5,>=2.0.2 in /usr/local/lib/python3.7/dist-packages (from packaging>=20.0->spacy) (3.0.8)\n",
            "Requirement already satisfied: smart-open<6.0.0,>=5.0.0 in /usr/local/lib/python3.7/dist-packages (from pathy>=0.3.5->spacy) (5.2.1)\n",
            "Requirement already satisfied: certifi>=2017.4.17 in /usr/local/lib/python3.7/dist-packages (from requests<3.0.0,>=2.13.0->spacy) (2021.10.8)\n",
            "Requirement already satisfied: chardet<4,>=3.0.2 in /usr/local/lib/python3.7/dist-packages (from requests<3.0.0,>=2.13.0->spacy) (3.0.4)\n",
            "Requirement already satisfied: urllib3!=1.25.0,!=1.25.1,<1.26,>=1.21.1 in /usr/local/lib/python3.7/dist-packages (from requests<3.0.0,>=2.13.0->spacy) (1.24.3)\n",
            "Requirement already satisfied: idna<3,>=2.5 in /usr/local/lib/python3.7/dist-packages (from requests<3.0.0,>=2.13.0->spacy) (2.10)\n",
            "Requirement already satisfied: MarkupSafe>=0.23 in /usr/local/lib/python3.7/dist-packages (from jinja2->spacy) (2.0.1)\n"
          ]
        }
      ],
      "source": [
        "pip install -U spacy"
      ]
    },
    {
      "cell_type": "code",
      "source": [
        "!python -m spacy download en_core_web_sm\n",
        "!python -m spacy download en_core_web_md"
      ],
      "metadata": {
        "id": "EhwbOag6dT7C",
        "colab": {
          "base_uri": "https://localhost:8080/"
        },
        "outputId": "2abcfaeb-a77c-4ca0-b819-9934e1eca85f"
      },
      "execution_count": 49,
      "outputs": [
        {
          "output_type": "stream",
          "name": "stdout",
          "text": [
            "Collecting en-core-web-sm==3.2.0\n",
            "  Downloading https://github.com/explosion/spacy-models/releases/download/en_core_web_sm-3.2.0/en_core_web_sm-3.2.0-py3-none-any.whl (13.9 MB)\n",
            "\u001b[K     |████████████████████████████████| 13.9 MB 22.8 MB/s \n",
            "\u001b[?25hRequirement already satisfied: spacy<3.3.0,>=3.2.0 in /usr/local/lib/python3.7/dist-packages (from en-core-web-sm==3.2.0) (3.2.4)\n",
            "Requirement already satisfied: jinja2 in /usr/local/lib/python3.7/dist-packages (from spacy<3.3.0,>=3.2.0->en-core-web-sm==3.2.0) (2.11.3)\n",
            "Requirement already satisfied: catalogue<2.1.0,>=2.0.6 in /usr/local/lib/python3.7/dist-packages (from spacy<3.3.0,>=3.2.0->en-core-web-sm==3.2.0) (2.0.7)\n",
            "Requirement already satisfied: murmurhash<1.1.0,>=0.28.0 in /usr/local/lib/python3.7/dist-packages (from spacy<3.3.0,>=3.2.0->en-core-web-sm==3.2.0) (1.0.6)\n",
            "Requirement already satisfied: requests<3.0.0,>=2.13.0 in /usr/local/lib/python3.7/dist-packages (from spacy<3.3.0,>=3.2.0->en-core-web-sm==3.2.0) (2.23.0)\n",
            "Requirement already satisfied: cymem<2.1.0,>=2.0.2 in /usr/local/lib/python3.7/dist-packages (from spacy<3.3.0,>=3.2.0->en-core-web-sm==3.2.0) (2.0.6)\n",
            "Requirement already satisfied: pathy>=0.3.5 in /usr/local/lib/python3.7/dist-packages (from spacy<3.3.0,>=3.2.0->en-core-web-sm==3.2.0) (0.6.1)\n",
            "Requirement already satisfied: spacy-loggers<2.0.0,>=1.0.0 in /usr/local/lib/python3.7/dist-packages (from spacy<3.3.0,>=3.2.0->en-core-web-sm==3.2.0) (1.0.2)\n",
            "Requirement already satisfied: pydantic!=1.8,!=1.8.1,<1.9.0,>=1.7.4 in /usr/local/lib/python3.7/dist-packages (from spacy<3.3.0,>=3.2.0->en-core-web-sm==3.2.0) (1.8.2)\n",
            "Requirement already satisfied: typing-extensions<4.0.0.0,>=3.7.4 in /usr/local/lib/python3.7/dist-packages (from spacy<3.3.0,>=3.2.0->en-core-web-sm==3.2.0) (3.10.0.2)\n",
            "Requirement already satisfied: packaging>=20.0 in /usr/local/lib/python3.7/dist-packages (from spacy<3.3.0,>=3.2.0->en-core-web-sm==3.2.0) (21.3)\n",
            "Requirement already satisfied: setuptools in /usr/local/lib/python3.7/dist-packages (from spacy<3.3.0,>=3.2.0->en-core-web-sm==3.2.0) (57.4.0)\n",
            "Requirement already satisfied: wasabi<1.1.0,>=0.8.1 in /usr/local/lib/python3.7/dist-packages (from spacy<3.3.0,>=3.2.0->en-core-web-sm==3.2.0) (0.9.1)\n",
            "Requirement already satisfied: preshed<3.1.0,>=3.0.2 in /usr/local/lib/python3.7/dist-packages (from spacy<3.3.0,>=3.2.0->en-core-web-sm==3.2.0) (3.0.6)\n",
            "Requirement already satisfied: typer<0.5.0,>=0.3.0 in /usr/local/lib/python3.7/dist-packages (from spacy<3.3.0,>=3.2.0->en-core-web-sm==3.2.0) (0.4.1)\n",
            "Requirement already satisfied: langcodes<4.0.0,>=3.2.0 in /usr/local/lib/python3.7/dist-packages (from spacy<3.3.0,>=3.2.0->en-core-web-sm==3.2.0) (3.3.0)\n",
            "Requirement already satisfied: tqdm<5.0.0,>=4.38.0 in /usr/local/lib/python3.7/dist-packages (from spacy<3.3.0,>=3.2.0->en-core-web-sm==3.2.0) (4.64.0)\n",
            "Requirement already satisfied: srsly<3.0.0,>=2.4.1 in /usr/local/lib/python3.7/dist-packages (from spacy<3.3.0,>=3.2.0->en-core-web-sm==3.2.0) (2.4.3)\n",
            "Requirement already satisfied: blis<0.8.0,>=0.4.0 in /usr/local/lib/python3.7/dist-packages (from spacy<3.3.0,>=3.2.0->en-core-web-sm==3.2.0) (0.4.1)\n",
            "Requirement already satisfied: numpy>=1.15.0 in /usr/local/lib/python3.7/dist-packages (from spacy<3.3.0,>=3.2.0->en-core-web-sm==3.2.0) (1.21.6)\n",
            "Requirement already satisfied: spacy-legacy<3.1.0,>=3.0.8 in /usr/local/lib/python3.7/dist-packages (from spacy<3.3.0,>=3.2.0->en-core-web-sm==3.2.0) (3.0.9)\n",
            "Requirement already satisfied: thinc<8.1.0,>=8.0.12 in /usr/local/lib/python3.7/dist-packages (from spacy<3.3.0,>=3.2.0->en-core-web-sm==3.2.0) (8.0.15)\n",
            "Requirement already satisfied: click<8.1.0 in /usr/local/lib/python3.7/dist-packages (from spacy<3.3.0,>=3.2.0->en-core-web-sm==3.2.0) (7.1.2)\n",
            "Requirement already satisfied: zipp>=0.5 in /usr/local/lib/python3.7/dist-packages (from catalogue<2.1.0,>=2.0.6->spacy<3.3.0,>=3.2.0->en-core-web-sm==3.2.0) (3.8.0)\n",
            "Requirement already satisfied: pyparsing!=3.0.5,>=2.0.2 in /usr/local/lib/python3.7/dist-packages (from packaging>=20.0->spacy<3.3.0,>=3.2.0->en-core-web-sm==3.2.0) (3.0.8)\n",
            "Requirement already satisfied: smart-open<6.0.0,>=5.0.0 in /usr/local/lib/python3.7/dist-packages (from pathy>=0.3.5->spacy<3.3.0,>=3.2.0->en-core-web-sm==3.2.0) (5.2.1)\n",
            "Requirement already satisfied: urllib3!=1.25.0,!=1.25.1,<1.26,>=1.21.1 in /usr/local/lib/python3.7/dist-packages (from requests<3.0.0,>=2.13.0->spacy<3.3.0,>=3.2.0->en-core-web-sm==3.2.0) (1.24.3)\n",
            "Requirement already satisfied: chardet<4,>=3.0.2 in /usr/local/lib/python3.7/dist-packages (from requests<3.0.0,>=2.13.0->spacy<3.3.0,>=3.2.0->en-core-web-sm==3.2.0) (3.0.4)\n",
            "Requirement already satisfied: idna<3,>=2.5 in /usr/local/lib/python3.7/dist-packages (from requests<3.0.0,>=2.13.0->spacy<3.3.0,>=3.2.0->en-core-web-sm==3.2.0) (2.10)\n",
            "Requirement already satisfied: certifi>=2017.4.17 in /usr/local/lib/python3.7/dist-packages (from requests<3.0.0,>=2.13.0->spacy<3.3.0,>=3.2.0->en-core-web-sm==3.2.0) (2021.10.8)\n",
            "Requirement already satisfied: MarkupSafe>=0.23 in /usr/local/lib/python3.7/dist-packages (from jinja2->spacy<3.3.0,>=3.2.0->en-core-web-sm==3.2.0) (2.0.1)\n",
            "\u001b[38;5;2m✔ Download and installation successful\u001b[0m\n",
            "You can now load the package via spacy.load('en_core_web_sm')\n",
            "Collecting en-core-web-md==3.2.0\n",
            "  Downloading https://github.com/explosion/spacy-models/releases/download/en_core_web_md-3.2.0/en_core_web_md-3.2.0-py3-none-any.whl (45.7 MB)\n",
            "\u001b[K     |████████████████████████████████| 45.7 MB 1.8 MB/s \n",
            "\u001b[?25hRequirement already satisfied: spacy<3.3.0,>=3.2.0 in /usr/local/lib/python3.7/dist-packages (from en-core-web-md==3.2.0) (3.2.4)\n",
            "Requirement already satisfied: numpy>=1.15.0 in /usr/local/lib/python3.7/dist-packages (from spacy<3.3.0,>=3.2.0->en-core-web-md==3.2.0) (1.21.6)\n",
            "Requirement already satisfied: setuptools in /usr/local/lib/python3.7/dist-packages (from spacy<3.3.0,>=3.2.0->en-core-web-md==3.2.0) (57.4.0)\n",
            "Requirement already satisfied: typer<0.5.0,>=0.3.0 in /usr/local/lib/python3.7/dist-packages (from spacy<3.3.0,>=3.2.0->en-core-web-md==3.2.0) (0.4.1)\n",
            "Requirement already satisfied: langcodes<4.0.0,>=3.2.0 in /usr/local/lib/python3.7/dist-packages (from spacy<3.3.0,>=3.2.0->en-core-web-md==3.2.0) (3.3.0)\n",
            "Requirement already satisfied: murmurhash<1.1.0,>=0.28.0 in /usr/local/lib/python3.7/dist-packages (from spacy<3.3.0,>=3.2.0->en-core-web-md==3.2.0) (1.0.6)\n",
            "Requirement already satisfied: tqdm<5.0.0,>=4.38.0 in /usr/local/lib/python3.7/dist-packages (from spacy<3.3.0,>=3.2.0->en-core-web-md==3.2.0) (4.64.0)\n",
            "Requirement already satisfied: preshed<3.1.0,>=3.0.2 in /usr/local/lib/python3.7/dist-packages (from spacy<3.3.0,>=3.2.0->en-core-web-md==3.2.0) (3.0.6)\n",
            "Requirement already satisfied: typing-extensions<4.0.0.0,>=3.7.4 in /usr/local/lib/python3.7/dist-packages (from spacy<3.3.0,>=3.2.0->en-core-web-md==3.2.0) (3.10.0.2)\n",
            "Requirement already satisfied: jinja2 in /usr/local/lib/python3.7/dist-packages (from spacy<3.3.0,>=3.2.0->en-core-web-md==3.2.0) (2.11.3)\n",
            "Requirement already satisfied: packaging>=20.0 in /usr/local/lib/python3.7/dist-packages (from spacy<3.3.0,>=3.2.0->en-core-web-md==3.2.0) (21.3)\n",
            "Requirement already satisfied: pathy>=0.3.5 in /usr/local/lib/python3.7/dist-packages (from spacy<3.3.0,>=3.2.0->en-core-web-md==3.2.0) (0.6.1)\n",
            "Requirement already satisfied: requests<3.0.0,>=2.13.0 in /usr/local/lib/python3.7/dist-packages (from spacy<3.3.0,>=3.2.0->en-core-web-md==3.2.0) (2.23.0)\n",
            "Requirement already satisfied: spacy-loggers<2.0.0,>=1.0.0 in /usr/local/lib/python3.7/dist-packages (from spacy<3.3.0,>=3.2.0->en-core-web-md==3.2.0) (1.0.2)\n",
            "Requirement already satisfied: cymem<2.1.0,>=2.0.2 in /usr/local/lib/python3.7/dist-packages (from spacy<3.3.0,>=3.2.0->en-core-web-md==3.2.0) (2.0.6)\n",
            "Requirement already satisfied: pydantic!=1.8,!=1.8.1,<1.9.0,>=1.7.4 in /usr/local/lib/python3.7/dist-packages (from spacy<3.3.0,>=3.2.0->en-core-web-md==3.2.0) (1.8.2)\n",
            "Requirement already satisfied: thinc<8.1.0,>=8.0.12 in /usr/local/lib/python3.7/dist-packages (from spacy<3.3.0,>=3.2.0->en-core-web-md==3.2.0) (8.0.15)\n",
            "Requirement already satisfied: wasabi<1.1.0,>=0.8.1 in /usr/local/lib/python3.7/dist-packages (from spacy<3.3.0,>=3.2.0->en-core-web-md==3.2.0) (0.9.1)\n",
            "Requirement already satisfied: click<8.1.0 in /usr/local/lib/python3.7/dist-packages (from spacy<3.3.0,>=3.2.0->en-core-web-md==3.2.0) (7.1.2)\n",
            "Requirement already satisfied: catalogue<2.1.0,>=2.0.6 in /usr/local/lib/python3.7/dist-packages (from spacy<3.3.0,>=3.2.0->en-core-web-md==3.2.0) (2.0.7)\n",
            "Requirement already satisfied: blis<0.8.0,>=0.4.0 in /usr/local/lib/python3.7/dist-packages (from spacy<3.3.0,>=3.2.0->en-core-web-md==3.2.0) (0.4.1)\n",
            "Requirement already satisfied: spacy-legacy<3.1.0,>=3.0.8 in /usr/local/lib/python3.7/dist-packages (from spacy<3.3.0,>=3.2.0->en-core-web-md==3.2.0) (3.0.9)\n",
            "Requirement already satisfied: srsly<3.0.0,>=2.4.1 in /usr/local/lib/python3.7/dist-packages (from spacy<3.3.0,>=3.2.0->en-core-web-md==3.2.0) (2.4.3)\n",
            "Requirement already satisfied: zipp>=0.5 in /usr/local/lib/python3.7/dist-packages (from catalogue<2.1.0,>=2.0.6->spacy<3.3.0,>=3.2.0->en-core-web-md==3.2.0) (3.8.0)\n",
            "Requirement already satisfied: pyparsing!=3.0.5,>=2.0.2 in /usr/local/lib/python3.7/dist-packages (from packaging>=20.0->spacy<3.3.0,>=3.2.0->en-core-web-md==3.2.0) (3.0.8)\n",
            "Requirement already satisfied: smart-open<6.0.0,>=5.0.0 in /usr/local/lib/python3.7/dist-packages (from pathy>=0.3.5->spacy<3.3.0,>=3.2.0->en-core-web-md==3.2.0) (5.2.1)\n",
            "Requirement already satisfied: idna<3,>=2.5 in /usr/local/lib/python3.7/dist-packages (from requests<3.0.0,>=2.13.0->spacy<3.3.0,>=3.2.0->en-core-web-md==3.2.0) (2.10)\n",
            "Requirement already satisfied: chardet<4,>=3.0.2 in /usr/local/lib/python3.7/dist-packages (from requests<3.0.0,>=2.13.0->spacy<3.3.0,>=3.2.0->en-core-web-md==3.2.0) (3.0.4)\n",
            "Requirement already satisfied: urllib3!=1.25.0,!=1.25.1,<1.26,>=1.21.1 in /usr/local/lib/python3.7/dist-packages (from requests<3.0.0,>=2.13.0->spacy<3.3.0,>=3.2.0->en-core-web-md==3.2.0) (1.24.3)\n",
            "Requirement already satisfied: certifi>=2017.4.17 in /usr/local/lib/python3.7/dist-packages (from requests<3.0.0,>=2.13.0->spacy<3.3.0,>=3.2.0->en-core-web-md==3.2.0) (2021.10.8)\n",
            "Requirement already satisfied: MarkupSafe>=0.23 in /usr/local/lib/python3.7/dist-packages (from jinja2->spacy<3.3.0,>=3.2.0->en-core-web-md==3.2.0) (2.0.1)\n",
            "\u001b[38;5;2m✔ Download and installation successful\u001b[0m\n",
            "You can now load the package via spacy.load('en_core_web_md')\n"
          ]
        }
      ]
    },
    {
      "cell_type": "markdown",
      "metadata": {
        "id": "6IEay4xUc866"
      },
      "source": [
        "### Start: Preprocessing Data\n",
        "\n",
        "We have a small corpus of 200 news articles that we wish to annotate with two entity types: \n",
        "- companies\n",
        "- other (non-commercial) organisations\n",
        "- adjectives\n",
        "- units\n",
        "- Month\n",
        "\n",
        "The first step is to extract the texts from the corpus:"
      ]
    },
    {
      "cell_type": "code",
      "execution_count": 50,
      "metadata": {
        "id": "J8gDCzfJc867"
      },
      "outputs": [],
      "source": [
        "import tarfile\n",
        "\n",
        "# We retrieve the texts\n",
        "texts = [] \n",
        "archive_file = tarfile.open(\"reuters_small.tar.gz\")\n",
        "for archive_member in archive_file.getnames():\n",
        "    if archive_member.endswith(\".txt\"):\n",
        "        text = archive_file.extractfile(archive_member).read().decode(\"utf8\")\n",
        "        texts.append(text)"
      ]
    },
    {
      "cell_type": "markdown",
      "metadata": {
        "id": "fjo4JZKMc869"
      },
      "source": [
        "We can now run Spacy on those texts to obtain `Doc` objects. spaCy is a free, open-source library for advanced Natural Language Processing (NLP) in Python. spaCy is designed to help build applications that process and “understand” large volumes of text. It can be used to ** build information extraction** or **natural language understanding systems**, or to **pre-process text for deep learning**. \n",
        "\n",
        "The spaCy library is foundational to all the code for skweak."
      ]
    },
    {
      "cell_type": "code",
      "execution_count": 51,
      "metadata": {
        "id": "qjps7Znqc86_"
      },
      "outputs": [],
      "source": [
        "import spacy\n",
        "\n",
        "# We run spacy on the texts    \n",
        "nlp = spacy.load(\"en_core_web_sm\", disable=[\"ner\", \"lemmatizer\"])\n",
        "docs = list(nlp.pipe(texts))\n"
      ]
    },
    {
      "cell_type": "markdown",
      "metadata": {
        "id": "s6Td-vhPc87A"
      },
      "source": [
        "<br>\n",
        "\n",
        "## Step 1: Labelling functions\n",
        "\n",
        "Labelling functions are at the core of `skweak`. They take a `Doc` as input and returns a list of spans with their associated labels. \n",
        "\n",
        "One simple type of labelling functions are heuristics. For instance, we can write that commercial companies may be recognized by their legal suffix (such as Corp.):"
      ]
    },
    {
      "cell_type": "code",
      "execution_count": 52,
      "metadata": {
        "id": "ZwohmsPoc87B",
        "outputId": "20aaf33e-70f8-48f8-e8c6-5b6c15ad557b",
        "colab": {
          "base_uri": "https://localhost:8080/",
          "height": 612
        }
      },
      "outputs": [
        {
          "output_type": "display_data",
          "data": {
            "text/plain": [
              "<IPython.core.display.HTML object>"
            ],
            "text/html": [
              "<span class=\"tex2jax_ignore\"><div class=\"entities\" style=\"line-height: 2.5; direction: ltr\">N.Y. judge restrains Merkin funds in Madoff lawsuit</br>NEW YORK (Reuters) - A judge extended an order on Tuesday barring hedge fund founder Ezra Merkin from shutting down funds that had invested with accused swindler Bernard Madoff or withdrawing money from them. New York State Supreme Court Justice Richard Lowe issued the extension in a lawsuit brought on December 23 by New York University, which says it lost $24 million when funds run by Merkin invested money with Madoff without its consent. Another judge issued the initial order on December 24 to stop Merkin from \n",
              "<mark class=\"entity\" style=\"background: #ddd; padding: 0.45em 0.6em; margin: 0 0.25em; line-height: 1; border-radius: 0.35em;\">\n",
              "    liquidating Ariel Fund Ltd\n",
              "    <span style=\"font-size: 0.8em; font-weight: bold; line-height: 1; border-radius: 0.35em; vertical-align: middle; margin-left: 0.5rem\">COMPANY</span>\n",
              "</mark>\n",
              ", named in the lawsuit by the university along with Merkin and his Gabriel Capital Corp. The initial order expired on Tuesday. Madoff, an investment adviser, is accused of running a $50 billion securities fraud over many years. &quot;Until December 12, 2008, we had no knowledge that NYU's funds were instead being managed by Bernard Madoff,&quot; said an affidavit filed with the court by NYU chief investment officer Maurice Maertens. &quot;None of the documents we received throughout the years from Gabriel or Ariel ever stated that Mr Madoff was managing NYU's assets.&quot; Merkin's lawyer, Andrew Levander, said in a statement that his client &quot;has always acted in good faith and did not deceive NYU or any other investors.&quot; Merkin's personal losses from the purported fraud &quot;are in the many tens of millions of dollars...He shares the sorrow of all investors who have been cheated by Madoff,&quot; the statement said. NYU claims the title as the largest private U.S. university and is among several institutions and individual investors seeking to recover losses. Merkin is chairman of GMAC, the finance business owned by \n",
              "<mark class=\"entity\" style=\"background: #ddd; padding: 0.45em 0.6em; margin: 0 0.25em; line-height: 1; border-radius: 0.35em;\">\n",
              "    General Motors Corp\n",
              "    <span style=\"font-size: 0.8em; font-weight: bold; line-height: 1; border-radius: 0.35em; vertical-align: middle; margin-left: 0.5rem\">COMPANY</span>\n",
              "</mark>\n",
              " ( GM.N ) and private equity firm Cerberus Capital Management LP CBS.UL. The U.S. Treasury gave GMAC $5 billion from its $700 billion Troubled Asset Relief Program on December 29. Five days earlier, the Federal Reserve granted GMAC bank holding company status so it could get access to the bailout money. Merkin has also been sued in U.S. District Court in Manhattan for his management of Ascot Partners LLP, a fund he founded that lost an estimated $1.8 billion with Madoff. Madoff, 70, was arrested on December 11 and charged with securities fraud. He is under house arrest in his Manhattan apartment on $10 million bail. On Monday, U.S. prosecutors sought to jail him, saying he had mailed jewelry and other valuables to family and friends in violation of a court order freezing all his belongings. A judge has not yet issued a ruling on the government's request. The case is New York University v. \n",
              "<mark class=\"entity\" style=\"background: #ddd; padding: 0.45em 0.6em; margin: 0 0.25em; line-height: 1; border-radius: 0.35em;\">\n",
              "    Ariel Fund Ltd\n",
              "    <span style=\"font-size: 0.8em; font-weight: bold; line-height: 1; border-radius: 0.35em; vertical-align: middle; margin-left: 0.5rem\">COMPANY</span>\n",
              "</mark>\n",
              " 08- 08603803 in New York State Supreme Court (Manhattan) </div></span>"
            ]
          },
          "metadata": {}
        }
      ],
      "source": [
        "import skweak\n",
        "\n",
        "def company_detector_fun(doc):\n",
        "    for chunk in doc.noun_chunks:\n",
        "        if chunk[-1].lower_.rstrip(\".\") in {'corp', 'inc', 'ltd', 'llc', 'sa', 'ag'}:\n",
        "            yield chunk.start, chunk.end, \"COMPANY\"\n",
        "\n",
        "# We create the labelling function by giving it a name, and a function to apply\n",
        "company_detector = skweak.heuristics.FunctionAnnotator(\"company_detector\", company_detector_fun)\n",
        "\n",
        "# We run the function on the full corpus\n",
        "docs = list(company_detector.pipe(docs))\n",
        "\n",
        "# Show an example\n",
        "skweak.utils.display_entities(docs[28], \"company_detector\")"
      ]
    },
    {
      "cell_type": "markdown",
      "metadata": {
        "id": "lvwnVntvc87E"
      },
      "source": [
        "<br>\n",
        "For non-commercial organisations, we can also look for the occurrence of words that are quite typical of public organisations or NGOs: "
      ]
    },
    {
      "cell_type": "code",
      "execution_count": 53,
      "metadata": {
        "id": "QocOgyBCc87G",
        "outputId": "ff983e22-a8b4-46f7-d625-2ee75fc89d16",
        "colab": {
          "base_uri": "https://localhost:8080/",
          "height": 612
        }
      },
      "outputs": [
        {
          "output_type": "display_data",
          "data": {
            "text/plain": [
              "<IPython.core.display.HTML object>"
            ],
            "text/html": [
              "<span class=\"tex2jax_ignore\"><div class=\"entities\" style=\"line-height: 2.5; direction: ltr\">N.Y. judge restrains Merkin funds in Madoff lawsuit</br>NEW YORK (Reuters) - A judge extended an order on Tuesday barring hedge fund founder Ezra Merkin from shutting down funds that had invested with accused swindler Bernard Madoff or withdrawing money from them. \n",
              "<mark class=\"entity\" style=\"background: #ddd; padding: 0.45em 0.6em; margin: 0 0.25em; line-height: 1; border-radius: 0.35em;\">\n",
              "    New York State Supreme Court Justice Richard Lowe\n",
              "    <span style=\"font-size: 0.8em; font-weight: bold; line-height: 1; border-radius: 0.35em; vertical-align: middle; margin-left: 0.5rem\">OTHER_ORG</span>\n",
              "</mark>\n",
              " issued the extension in a lawsuit brought on December 23 by \n",
              "<mark class=\"entity\" style=\"background: #ddd; padding: 0.45em 0.6em; margin: 0 0.25em; line-height: 1; border-radius: 0.35em;\">\n",
              "    New York University\n",
              "    <span style=\"font-size: 0.8em; font-weight: bold; line-height: 1; border-radius: 0.35em; vertical-align: middle; margin-left: 0.5rem\">OTHER_ORG</span>\n",
              "</mark>\n",
              ", which says it lost $24 million when funds run by Merkin invested money with Madoff without its consent. Another judge issued the initial order on December 24 to stop Merkin from liquidating Ariel Fund Ltd, named in the lawsuit by the university along with Merkin and his Gabriel Capital Corp. The initial order expired on Tuesday. Madoff, an investment adviser, is accused of running a $50 billion securities fraud over many years. &quot;Until December 12, 2008, we had no knowledge that NYU's funds were instead being managed by Bernard Madoff,&quot; said an affidavit filed with the court by NYU chief investment officer Maurice Maertens. &quot;None of the documents we received throughout the years from Gabriel or Ariel ever stated that Mr Madoff was managing NYU's assets.&quot; Merkin's lawyer, Andrew Levander, said in a statement that his client &quot;has always acted in good faith and did not deceive NYU or any other investors.&quot; Merkin's personal losses from the purported fraud &quot;are in the many tens of millions of dollars...He shares the sorrow of all investors who have been cheated by Madoff,&quot; the statement said. NYU claims the title as the largest private U.S. university and is among several institutions and individual investors seeking to recover losses. Merkin is chairman of GMAC, the finance business owned by General Motors Corp ( GM.N ) and private equity firm Cerberus Capital Management LP CBS.UL. The U.S. Treasury gave GMAC $5 billion from its $700 billion Troubled Asset Relief Program on December 29. Five days earlier, the Federal Reserve granted GMAC bank holding company status so it could get access to the bailout money. Merkin has also been sued in \n",
              "<mark class=\"entity\" style=\"background: #ddd; padding: 0.45em 0.6em; margin: 0 0.25em; line-height: 1; border-radius: 0.35em;\">\n",
              "    U.S. District Court\n",
              "    <span style=\"font-size: 0.8em; font-weight: bold; line-height: 1; border-radius: 0.35em; vertical-align: middle; margin-left: 0.5rem\">OTHER_ORG</span>\n",
              "</mark>\n",
              " in Manhattan for his management of Ascot Partners LLP, a fund he founded that lost an estimated $1.8 billion with Madoff. Madoff, 70, was arrested on December 11 and charged with securities fraud. He is under house arrest in his Manhattan apartment on $10 million bail. On Monday, U.S. prosecutors sought to jail him, saying he had mailed jewelry and other valuables to family and friends in violation of a court order freezing all his belongings. A judge has not yet issued a ruling on the government's request. The case is \n",
              "<mark class=\"entity\" style=\"background: #ddd; padding: 0.45em 0.6em; margin: 0 0.25em; line-height: 1; border-radius: 0.35em;\">\n",
              "    New York University\n",
              "    <span style=\"font-size: 0.8em; font-weight: bold; line-height: 1; border-radius: 0.35em; vertical-align: middle; margin-left: 0.5rem\">OTHER_ORG</span>\n",
              "</mark>\n",
              " v. Ariel Fund Ltd 08- 08603803 in \n",
              "<mark class=\"entity\" style=\"background: #ddd; padding: 0.45em 0.6em; margin: 0 0.25em; line-height: 1; border-radius: 0.35em;\">\n",
              "    New York State Supreme Court\n",
              "    <span style=\"font-size: 0.8em; font-weight: bold; line-height: 1; border-radius: 0.35em; vertical-align: middle; margin-left: 0.5rem\">OTHER_ORG</span>\n",
              "</mark>\n",
              " (Manhattan) </div></span>"
            ]
          },
          "metadata": {}
        }
      ],
      "source": [
        "OTHER_ORG_CUE_WORDS = {\"University\", \"Institute\", \"College\", \"Committee\", \"Party\", \"Agency\",\n",
        "                       \"Union\", \"Association\", \"Organization\", \"Court\", \"Office\", \"National\"}\n",
        "def other_org_detector_fun(doc):\n",
        "    for chunk in doc.noun_chunks:\n",
        "        if any([tok.text in OTHER_ORG_CUE_WORDS for tok in chunk]):\n",
        "            yield chunk.start, chunk.end, \"OTHER_ORG\"\n",
        "\n",
        "# We create the labelling function\n",
        "other_org_detector = skweak.heuristics.FunctionAnnotator(\"other_org_detector\", other_org_detector_fun)\n",
        "\n",
        "# We run the function on the full corpus\n",
        "docs = list(other_org_detector.pipe(docs))\n",
        "\n",
        "# Show an example\n",
        "skweak.utils.display_entities(docs[28], \"other_org_detector\")"
      ]
    },
    {
      "cell_type": "markdown",
      "source": [
        "Below are some labelling functions we added ourselves. \n",
        "\n",
        "1. Month Detector\n",
        "2. Unit Detector\n",
        "3. Adjective Detector\n"
      ],
      "metadata": {
        "id": "kVs2-9bxffQd"
      }
    },
    {
      "cell_type": "code",
      "source": [
        "# 1. Month detector\n",
        "MONTHS = {\"January\", \"February\", \"March\", \"April\", \"May\", \"June\", \"July\", \"August\", \"September\", \"October\", \"November\",\n",
        "          \"December\"}\n",
        "\n",
        "def month_detector(doc):\n",
        "    for chunk in doc.noun_chunks:\n",
        "        if any([tok.text in MONTHS for tok in chunk]):\n",
        "            yield chunk.start, chunk.end, \"MONTH\"\n",
        "            \n",
        "# We create the labelling function\n",
        "month_detector = skweak.heuristics.FunctionAnnotator(\"month_detector\", month_detector)\n",
        "\n",
        "# We run the function on the full corpus\n",
        "docs = list(month_detector.pipe(docs))\n",
        "\n",
        "# Show an example\n",
        "skweak.utils.display_entities(docs[28], \"month_detector\")"
      ],
      "metadata": {
        "colab": {
          "base_uri": "https://localhost:8080/",
          "height": 612
        },
        "id": "fDjfBcE4ANTC",
        "outputId": "bf3218fb-ccc5-4d16-9b5c-7ccb3dda6c1b"
      },
      "execution_count": 54,
      "outputs": [
        {
          "output_type": "display_data",
          "data": {
            "text/plain": [
              "<IPython.core.display.HTML object>"
            ],
            "text/html": [
              "<span class=\"tex2jax_ignore\"><div class=\"entities\" style=\"line-height: 2.5; direction: ltr\">N.Y. judge restrains Merkin funds in Madoff lawsuit</br>NEW YORK (Reuters) - A judge extended an order on Tuesday barring hedge fund founder Ezra Merkin from shutting down funds that had invested with accused swindler Bernard Madoff or withdrawing money from them. New York State Supreme Court Justice Richard Lowe issued the extension in a lawsuit brought on \n",
              "<mark class=\"entity\" style=\"background: #ddd; padding: 0.45em 0.6em; margin: 0 0.25em; line-height: 1; border-radius: 0.35em;\">\n",
              "    December\n",
              "    <span style=\"font-size: 0.8em; font-weight: bold; line-height: 1; border-radius: 0.35em; vertical-align: middle; margin-left: 0.5rem\">MONTH</span>\n",
              "</mark>\n",
              " 23 by New York University, which says it lost $24 million when funds run by Merkin invested money with Madoff without its consent. Another judge issued the initial order on \n",
              "<mark class=\"entity\" style=\"background: #ddd; padding: 0.45em 0.6em; margin: 0 0.25em; line-height: 1; border-radius: 0.35em;\">\n",
              "    December\n",
              "    <span style=\"font-size: 0.8em; font-weight: bold; line-height: 1; border-radius: 0.35em; vertical-align: middle; margin-left: 0.5rem\">MONTH</span>\n",
              "</mark>\n",
              " 24 to stop Merkin from liquidating Ariel Fund Ltd, named in the lawsuit by the university along with Merkin and his Gabriel Capital Corp. The initial order expired on Tuesday. Madoff, an investment adviser, is accused of running a $50 billion securities fraud over many years. &quot;Until \n",
              "<mark class=\"entity\" style=\"background: #ddd; padding: 0.45em 0.6em; margin: 0 0.25em; line-height: 1; border-radius: 0.35em;\">\n",
              "    December\n",
              "    <span style=\"font-size: 0.8em; font-weight: bold; line-height: 1; border-radius: 0.35em; vertical-align: middle; margin-left: 0.5rem\">MONTH</span>\n",
              "</mark>\n",
              " 12, 2008, we had no knowledge that NYU's funds were instead being managed by Bernard Madoff,&quot; said an affidavit filed with the court by NYU chief investment officer Maurice Maertens. &quot;None of the documents we received throughout the years from Gabriel or Ariel ever stated that Mr Madoff was managing NYU's assets.&quot; Merkin's lawyer, Andrew Levander, said in a statement that his client &quot;has always acted in good faith and did not deceive NYU or any other investors.&quot; Merkin's personal losses from the purported fraud &quot;are in the many tens of millions of dollars...He shares the sorrow of all investors who have been cheated by Madoff,&quot; the statement said. NYU claims the title as the largest private U.S. university and is among several institutions and individual investors seeking to recover losses. Merkin is chairman of GMAC, the finance business owned by General Motors Corp ( GM.N ) and private equity firm Cerberus Capital Management LP CBS.UL. The U.S. Treasury gave GMAC $5 billion from its $700 billion Troubled Asset Relief Program on \n",
              "<mark class=\"entity\" style=\"background: #ddd; padding: 0.45em 0.6em; margin: 0 0.25em; line-height: 1; border-radius: 0.35em;\">\n",
              "    December\n",
              "    <span style=\"font-size: 0.8em; font-weight: bold; line-height: 1; border-radius: 0.35em; vertical-align: middle; margin-left: 0.5rem\">MONTH</span>\n",
              "</mark>\n",
              " 29. Five days earlier, the Federal Reserve granted GMAC bank holding company status so it could get access to the bailout money. Merkin has also been sued in U.S. District Court in Manhattan for his management of Ascot Partners LLP, a fund he founded that lost an estimated $1.8 billion with Madoff. Madoff, 70, was arrested on \n",
              "<mark class=\"entity\" style=\"background: #ddd; padding: 0.45em 0.6em; margin: 0 0.25em; line-height: 1; border-radius: 0.35em;\">\n",
              "    December\n",
              "    <span style=\"font-size: 0.8em; font-weight: bold; line-height: 1; border-radius: 0.35em; vertical-align: middle; margin-left: 0.5rem\">MONTH</span>\n",
              "</mark>\n",
              " 11 and charged with securities fraud. He is under house arrest in his Manhattan apartment on $10 million bail. On Monday, U.S. prosecutors sought to jail him, saying he had mailed jewelry and other valuables to family and friends in violation of a court order freezing all his belongings. A judge has not yet issued a ruling on the government's request. The case is New York University v. Ariel Fund Ltd 08- 08603803 in New York State Supreme Court (Manhattan) </div></span>"
            ]
          },
          "metadata": {}
        }
      ]
    },
    {
      "cell_type": "code",
      "source": [
        "## 2. Unit Detector\n",
        "UNITS = {\"million\", \"billion\", \"mln\", \"bln\", \"bn\", \"thousand\", \"m\", \"k\", \"b\", \"m.\", \"k.\", \"b.\", \"mln.\", \"bln.\",\n",
        "              \"bn.\", \"tons\", \"tonnes\", \"barrels\", \"m\", \"km\", \"miles\", \"kph\", \"mph\", \"kg\", \"°C\", \"dB\", \"ft\", \"gal\", \"gallons\", \"g\",\n",
        "              \"kW\", \"s\", \"oz\", \"m2\", \"km2\", \"yards\", \"W\", \"kW\", \"kWh\", \"kWh/yr\", \"Gb\", \"MW\", \"kilometers\", \"meters\", \"liters\", \"litres\", \"g\",\n",
        "              \"grams\", \"tons/yr\", 'pounds', 'cubits', 'degrees', 'ton', 'kilograms', 'inches', 'inch', 'megawatts', 'metres', 'feet', 'ounces',\n",
        "              'watts', 'megabytes', 'gigabytes', 'terabytes', 'hectares', 'centimeters', 'millimeters', \"F\", \"Celsius\"}\n",
        "\n",
        "def unit_detector(doc):\n",
        "    for i, tok in enumerate(nlp(doc.text)):\n",
        "        if tok.text in UNITS:\n",
        "            yield i, i+1, \"UNIT\"\n",
        "            \n",
        "# We create the labelling function\n",
        "unit_detector = skweak.heuristics.FunctionAnnotator(\"unit_detector\", unit_detector)\n",
        "\n",
        "# We run the function on the full corpus\n",
        "docs = list(unit_detector.pipe(docs))\n",
        "\n",
        "# Show an example\n",
        "skweak.utils.display_entities(docs[28], \"unit_detector\")"
      ],
      "metadata": {
        "colab": {
          "base_uri": "https://localhost:8080/",
          "height": 612
        },
        "id": "44FvH64FEFjF",
        "outputId": "4d5be3b6-7367-4601-d8cf-e4fab7cba7c5"
      },
      "execution_count": 55,
      "outputs": [
        {
          "output_type": "display_data",
          "data": {
            "text/plain": [
              "<IPython.core.display.HTML object>"
            ],
            "text/html": [
              "<span class=\"tex2jax_ignore\"><div class=\"entities\" style=\"line-height: 2.5; direction: ltr\">N.Y. judge restrains Merkin funds in Madoff lawsuit</br>NEW YORK (Reuters) - A judge extended an order on Tuesday barring hedge fund founder Ezra Merkin from shutting down funds that had invested with accused swindler Bernard Madoff or withdrawing money from them. New York State Supreme Court Justice Richard Lowe issued the extension in a lawsuit brought on December 23 by New York University, which says it lost $24 \n",
              "<mark class=\"entity\" style=\"background: #ddd; padding: 0.45em 0.6em; margin: 0 0.25em; line-height: 1; border-radius: 0.35em;\">\n",
              "    million\n",
              "    <span style=\"font-size: 0.8em; font-weight: bold; line-height: 1; border-radius: 0.35em; vertical-align: middle; margin-left: 0.5rem\">UNIT</span>\n",
              "</mark>\n",
              " when funds run by Merkin invested money with Madoff without its consent. Another judge issued the initial order on December 24 to stop Merkin from liquidating Ariel Fund Ltd, named in the lawsuit by the university along with Merkin and his Gabriel Capital Corp. The initial order expired on Tuesday. Madoff, an investment adviser, is accused of running a $50 \n",
              "<mark class=\"entity\" style=\"background: #ddd; padding: 0.45em 0.6em; margin: 0 0.25em; line-height: 1; border-radius: 0.35em;\">\n",
              "    billion\n",
              "    <span style=\"font-size: 0.8em; font-weight: bold; line-height: 1; border-radius: 0.35em; vertical-align: middle; margin-left: 0.5rem\">UNIT</span>\n",
              "</mark>\n",
              " securities fraud over many years. &quot;Until December 12, 2008, we had no knowledge that NYU's funds were instead being managed by Bernard Madoff,&quot; said an affidavit filed with the court by NYU chief investment officer Maurice Maertens. &quot;None of the documents we received throughout the years from Gabriel or Ariel ever stated that Mr Madoff was managing NYU's assets.&quot; Merkin's lawyer, Andrew Levander, said in a statement that his client &quot;has always acted in good faith and did not deceive NYU or any other investors.&quot; Merkin's personal losses from the purported fraud &quot;are in the many tens of millions of dollars...He shares the sorrow of all investors who have been cheated by Madoff,&quot; the statement said. NYU claims the title as the largest private U.S. university and is among several institutions and individual investors seeking to recover losses. Merkin is chairman of GMAC, the finance business owned by General Motors Corp ( GM.N ) and private equity firm Cerberus Capital Management LP CBS.UL. The U.S. Treasury gave GMAC $5 \n",
              "<mark class=\"entity\" style=\"background: #ddd; padding: 0.45em 0.6em; margin: 0 0.25em; line-height: 1; border-radius: 0.35em;\">\n",
              "    billion\n",
              "    <span style=\"font-size: 0.8em; font-weight: bold; line-height: 1; border-radius: 0.35em; vertical-align: middle; margin-left: 0.5rem\">UNIT</span>\n",
              "</mark>\n",
              " from its $700 \n",
              "<mark class=\"entity\" style=\"background: #ddd; padding: 0.45em 0.6em; margin: 0 0.25em; line-height: 1; border-radius: 0.35em;\">\n",
              "    billion\n",
              "    <span style=\"font-size: 0.8em; font-weight: bold; line-height: 1; border-radius: 0.35em; vertical-align: middle; margin-left: 0.5rem\">UNIT</span>\n",
              "</mark>\n",
              " Troubled Asset Relief Program on December 29. Five days earlier, the Federal Reserve granted GMAC bank holding company status so it could get access to the bailout money. Merkin has also been sued in U.S. District Court in Manhattan for his management of Ascot Partners LLP, a fund he founded that lost an estimated $1.8 \n",
              "<mark class=\"entity\" style=\"background: #ddd; padding: 0.45em 0.6em; margin: 0 0.25em; line-height: 1; border-radius: 0.35em;\">\n",
              "    billion\n",
              "    <span style=\"font-size: 0.8em; font-weight: bold; line-height: 1; border-radius: 0.35em; vertical-align: middle; margin-left: 0.5rem\">UNIT</span>\n",
              "</mark>\n",
              " with Madoff. Madoff, 70, was arrested on December 11 and charged with securities fraud. He is under house arrest in his Manhattan apartment on $10 \n",
              "<mark class=\"entity\" style=\"background: #ddd; padding: 0.45em 0.6em; margin: 0 0.25em; line-height: 1; border-radius: 0.35em;\">\n",
              "    million\n",
              "    <span style=\"font-size: 0.8em; font-weight: bold; line-height: 1; border-radius: 0.35em; vertical-align: middle; margin-left: 0.5rem\">UNIT</span>\n",
              "</mark>\n",
              " bail. On Monday, U.S. prosecutors sought to jail him, saying he had mailed jewelry and other valuables to family and friends in violation of a court order freezing all his belongings. A judge has not yet issued a ruling on the government's request. The case is New York University v. Ariel Fund Ltd 08- 08603803 in New York State Supreme Court (Manhattan) </div></span>"
            ]
          },
          "metadata": {}
        }
      ]
    },
    {
      "cell_type": "code",
      "source": [
        "## 3. Adjective Detector\n",
        "def adj_detector(doc):\n",
        "    for i, tok in enumerate(nlp(doc.text)):\n",
        "        if tok.pos_ == 'ADJ':\n",
        "            yield i, i+1, \"ADJ\"\n",
        "            \n",
        "# We create the labelling function\n",
        "adj_detector = skweak.heuristics.FunctionAnnotator(\"adj_detector\", adj_detector)\n",
        "\n",
        "# We run the function on the full corpus\n",
        "docs = list(adj_detector.pipe(docs))\n",
        "\n",
        "# Show an example\n",
        "skweak.utils.display_entities(docs[28], \"adj_detector\")\n"
      ],
      "metadata": {
        "colab": {
          "base_uri": "https://localhost:8080/",
          "height": 612
        },
        "id": "sWX90L1BHDfx",
        "outputId": "27d2bc88-9e63-4096-e400-b84fda6e21e8"
      },
      "execution_count": 56,
      "outputs": [
        {
          "output_type": "display_data",
          "data": {
            "text/plain": [
              "<IPython.core.display.HTML object>"
            ],
            "text/html": [
              "<span class=\"tex2jax_ignore\"><div class=\"entities\" style=\"line-height: 2.5; direction: ltr\">N.Y. judge restrains Merkin funds in Madoff lawsuit</br>NEW YORK (Reuters) - A judge extended an order on Tuesday barring hedge fund founder Ezra Merkin from shutting down funds that had invested with accused swindler Bernard Madoff or withdrawing money from them. New York State Supreme Court Justice Richard Lowe issued the extension in a lawsuit brought on December 23 by New York University, which says it lost $24 million when funds run by Merkin invested money with Madoff without its consent. Another judge issued the \n",
              "<mark class=\"entity\" style=\"background: #ddd; padding: 0.45em 0.6em; margin: 0 0.25em; line-height: 1; border-radius: 0.35em;\">\n",
              "    initial\n",
              "    <span style=\"font-size: 0.8em; font-weight: bold; line-height: 1; border-radius: 0.35em; vertical-align: middle; margin-left: 0.5rem\">ADJ</span>\n",
              "</mark>\n",
              " order on December 24 to stop Merkin from liquidating Ariel Fund Ltd, named in the lawsuit by the university along with Merkin and his Gabriel Capital Corp. The \n",
              "<mark class=\"entity\" style=\"background: #ddd; padding: 0.45em 0.6em; margin: 0 0.25em; line-height: 1; border-radius: 0.35em;\">\n",
              "    initial\n",
              "    <span style=\"font-size: 0.8em; font-weight: bold; line-height: 1; border-radius: 0.35em; vertical-align: middle; margin-left: 0.5rem\">ADJ</span>\n",
              "</mark>\n",
              " order expired on Tuesday. Madoff, an investment adviser, is accused of running a $50 billion securities fraud over \n",
              "<mark class=\"entity\" style=\"background: #ddd; padding: 0.45em 0.6em; margin: 0 0.25em; line-height: 1; border-radius: 0.35em;\">\n",
              "    many\n",
              "    <span style=\"font-size: 0.8em; font-weight: bold; line-height: 1; border-radius: 0.35em; vertical-align: middle; margin-left: 0.5rem\">ADJ</span>\n",
              "</mark>\n",
              " years. &quot;Until December 12, 2008, we had no knowledge that NYU's funds were instead being managed by Bernard Madoff,&quot; said an affidavit filed with the court by NYU \n",
              "<mark class=\"entity\" style=\"background: #ddd; padding: 0.45em 0.6em; margin: 0 0.25em; line-height: 1; border-radius: 0.35em;\">\n",
              "    chief\n",
              "    <span style=\"font-size: 0.8em; font-weight: bold; line-height: 1; border-radius: 0.35em; vertical-align: middle; margin-left: 0.5rem\">ADJ</span>\n",
              "</mark>\n",
              " investment officer Maurice Maertens. &quot;None of the documents we received throughout the years from Gabriel or Ariel ever stated that Mr Madoff was managing NYU's assets.&quot; Merkin's lawyer, Andrew Levander, said in a statement that his client &quot;has always acted in \n",
              "<mark class=\"entity\" style=\"background: #ddd; padding: 0.45em 0.6em; margin: 0 0.25em; line-height: 1; border-radius: 0.35em;\">\n",
              "    good\n",
              "    <span style=\"font-size: 0.8em; font-weight: bold; line-height: 1; border-radius: 0.35em; vertical-align: middle; margin-left: 0.5rem\">ADJ</span>\n",
              "</mark>\n",
              " faith and did not deceive NYU or any \n",
              "<mark class=\"entity\" style=\"background: #ddd; padding: 0.45em 0.6em; margin: 0 0.25em; line-height: 1; border-radius: 0.35em;\">\n",
              "    other\n",
              "    <span style=\"font-size: 0.8em; font-weight: bold; line-height: 1; border-radius: 0.35em; vertical-align: middle; margin-left: 0.5rem\">ADJ</span>\n",
              "</mark>\n",
              " investors.&quot; Merkin's \n",
              "<mark class=\"entity\" style=\"background: #ddd; padding: 0.45em 0.6em; margin: 0 0.25em; line-height: 1; border-radius: 0.35em;\">\n",
              "    personal\n",
              "    <span style=\"font-size: 0.8em; font-weight: bold; line-height: 1; border-radius: 0.35em; vertical-align: middle; margin-left: 0.5rem\">ADJ</span>\n",
              "</mark>\n",
              " losses from the \n",
              "<mark class=\"entity\" style=\"background: #ddd; padding: 0.45em 0.6em; margin: 0 0.25em; line-height: 1; border-radius: 0.35em;\">\n",
              "    purported\n",
              "    <span style=\"font-size: 0.8em; font-weight: bold; line-height: 1; border-radius: 0.35em; vertical-align: middle; margin-left: 0.5rem\">ADJ</span>\n",
              "</mark>\n",
              " fraud &quot;are in the \n",
              "<mark class=\"entity\" style=\"background: #ddd; padding: 0.45em 0.6em; margin: 0 0.25em; line-height: 1; border-radius: 0.35em;\">\n",
              "    many\n",
              "    <span style=\"font-size: 0.8em; font-weight: bold; line-height: 1; border-radius: 0.35em; vertical-align: middle; margin-left: 0.5rem\">ADJ</span>\n",
              "</mark>\n",
              " tens of millions of dollars...He shares the sorrow of all investors who have been cheated by Madoff,&quot; the statement said. NYU claims the title as the \n",
              "<mark class=\"entity\" style=\"background: #ddd; padding: 0.45em 0.6em; margin: 0 0.25em; line-height: 1; border-radius: 0.35em;\">\n",
              "    largest\n",
              "    <span style=\"font-size: 0.8em; font-weight: bold; line-height: 1; border-radius: 0.35em; vertical-align: middle; margin-left: 0.5rem\">ADJ</span>\n",
              "</mark>\n",
              " \n",
              "<mark class=\"entity\" style=\"background: #ddd; padding: 0.45em 0.6em; margin: 0 0.25em; line-height: 1; border-radius: 0.35em;\">\n",
              "    private\n",
              "    <span style=\"font-size: 0.8em; font-weight: bold; line-height: 1; border-radius: 0.35em; vertical-align: middle; margin-left: 0.5rem\">ADJ</span>\n",
              "</mark>\n",
              " U.S. university and is among \n",
              "<mark class=\"entity\" style=\"background: #ddd; padding: 0.45em 0.6em; margin: 0 0.25em; line-height: 1; border-radius: 0.35em;\">\n",
              "    several\n",
              "    <span style=\"font-size: 0.8em; font-weight: bold; line-height: 1; border-radius: 0.35em; vertical-align: middle; margin-left: 0.5rem\">ADJ</span>\n",
              "</mark>\n",
              " institutions and \n",
              "<mark class=\"entity\" style=\"background: #ddd; padding: 0.45em 0.6em; margin: 0 0.25em; line-height: 1; border-radius: 0.35em;\">\n",
              "    individual\n",
              "    <span style=\"font-size: 0.8em; font-weight: bold; line-height: 1; border-radius: 0.35em; vertical-align: middle; margin-left: 0.5rem\">ADJ</span>\n",
              "</mark>\n",
              " investors seeking to recover losses. Merkin is chairman of GMAC, the finance business owned by General Motors Corp ( GM.N ) and \n",
              "<mark class=\"entity\" style=\"background: #ddd; padding: 0.45em 0.6em; margin: 0 0.25em; line-height: 1; border-radius: 0.35em;\">\n",
              "    private\n",
              "    <span style=\"font-size: 0.8em; font-weight: bold; line-height: 1; border-radius: 0.35em; vertical-align: middle; margin-left: 0.5rem\">ADJ</span>\n",
              "</mark>\n",
              " equity firm Cerberus Capital Management LP CBS.UL. The U.S. Treasury gave GMAC $5 billion from its $700 billion Troubled Asset Relief Program on December 29. Five days earlier, the Federal Reserve granted GMAC bank holding company status so it could get access to the bailout money. Merkin has also been sued in U.S. District Court in Manhattan for his management of Ascot Partners LLP, a fund he founded that lost an estimated $1.8 billion with Madoff. Madoff, 70, was arrested on December 11 and charged with securities fraud. He is under house arrest in his Manhattan apartment on $10 million bail. On Monday, U.S. prosecutors sought to jail him, saying he had mailed jewelry and \n",
              "<mark class=\"entity\" style=\"background: #ddd; padding: 0.45em 0.6em; margin: 0 0.25em; line-height: 1; border-radius: 0.35em;\">\n",
              "    other\n",
              "    <span style=\"font-size: 0.8em; font-weight: bold; line-height: 1; border-radius: 0.35em; vertical-align: middle; margin-left: 0.5rem\">ADJ</span>\n",
              "</mark>\n",
              " valuables to family and friends in violation of a court order freezing all his belongings. A judge has not yet issued a ruling on the government's request. The case is New York University v. Ariel Fund Ltd 08- 08603803 in New York State Supreme Court (Manhattan) </div></span>"
            ]
          },
          "metadata": {}
        }
      ]
    },
    {
      "cell_type": "markdown",
      "metadata": {
        "id": "F2NzfQsbc87I"
      },
      "source": [
        "<br>\n",
        "In addition to heuristics, we can also use  _gazetteers_ that search for the occurrences of entries (often extracted from an external source): "
      ]
    },
    {
      "cell_type": "code",
      "execution_count": 57,
      "metadata": {
        "id": "Zdd0Z1KUc87K",
        "outputId": "c8c3d6fe-3569-47e7-ea67-1309e7664ec3",
        "colab": {
          "base_uri": "https://localhost:8080/",
          "height": 664
        }
      },
      "outputs": [
        {
          "output_type": "stream",
          "name": "stdout",
          "text": [
            "Extracting data from crunchbase_companies.json.gz\n",
            "Populating trie for class COMPANY (number: 539174)\n",
            "done building the gazetteer\n"
          ]
        },
        {
          "output_type": "display_data",
          "data": {
            "text/plain": [
              "<IPython.core.display.HTML object>"
            ],
            "text/html": [
              "<span class=\"tex2jax_ignore\"><div class=\"entities\" style=\"line-height: 2.5; direction: ltr\">N.Y. judge restrains Merkin funds in Madoff lawsuit</br>NEW YORK (\n",
              "<mark class=\"entity\" style=\"background: #ddd; padding: 0.45em 0.6em; margin: 0 0.25em; line-height: 1; border-radius: 0.35em;\">\n",
              "    Reuters\n",
              "    <span style=\"font-size: 0.8em; font-weight: bold; line-height: 1; border-radius: 0.35em; vertical-align: middle; margin-left: 0.5rem\">COMPANY</span>\n",
              "</mark>\n",
              ") - A judge extended an order on Tuesday barring hedge fund founder Ezra Merkin from shutting down funds that had invested with accused swindler Bernard Madoff or withdrawing money from them. New York State Supreme Court Justice Richard Lowe issued the extension in a lawsuit brought on December 23 by New York University, which says it lost $24 million when funds run by Merkin invested money with Madoff without its consent. Another judge issued the initial order on December 24 to stop Merkin from liquidating Ariel Fund Ltd, named in the lawsuit by the university along with Merkin and his Gabriel Capital Corp. The initial order expired on Tuesday. Madoff, an investment adviser, is accused of running a $50 billion securities fraud over many years. &quot;Until December 12, 2008, we had no knowledge that NYU's funds were instead being managed by Bernard Madoff,&quot; said an affidavit filed with the court by NYU chief investment officer Maurice Maertens. &quot;None of the documents we received throughout the years from \n",
              "<mark class=\"entity\" style=\"background: #ddd; padding: 0.45em 0.6em; margin: 0 0.25em; line-height: 1; border-radius: 0.35em;\">\n",
              "    Gabriel\n",
              "    <span style=\"font-size: 0.8em; font-weight: bold; line-height: 1; border-radius: 0.35em; vertical-align: middle; margin-left: 0.5rem\">COMPANY</span>\n",
              "</mark>\n",
              " or \n",
              "<mark class=\"entity\" style=\"background: #ddd; padding: 0.45em 0.6em; margin: 0 0.25em; line-height: 1; border-radius: 0.35em;\">\n",
              "    Ariel\n",
              "    <span style=\"font-size: 0.8em; font-weight: bold; line-height: 1; border-radius: 0.35em; vertical-align: middle; margin-left: 0.5rem\">COMPANY</span>\n",
              "</mark>\n",
              " ever stated that Mr Madoff was managing NYU's assets.&quot; Merkin's lawyer, Andrew Levander, said in a statement that his client &quot;has always acted in good faith and did not deceive NYU or any other investors.&quot; Merkin's personal losses from the purported fraud &quot;are in the many tens of millions of dollars...He shares the sorrow of all investors who have been cheated by Madoff,&quot; the statement said. NYU claims the title as the largest private U.S. university and is among several institutions and individual investors seeking to recover losses. Merkin is chairman of GMAC, the finance business owned by General Motors Corp ( GM.N ) and private equity firm Cerberus Capital Management LP CBS.UL. The U.S. Treasury gave GMAC $5 billion from its $700 billion Troubled Asset Relief Program on December 29. Five days earlier, the Federal Reserve granted GMAC bank holding company status so it could get access to the bailout money. Merkin has also been sued in \n",
              "<mark class=\"entity\" style=\"background: #ddd; padding: 0.45em 0.6em; margin: 0 0.25em; line-height: 1; border-radius: 0.35em;\">\n",
              "    U.S. District Court\n",
              "    <span style=\"font-size: 0.8em; font-weight: bold; line-height: 1; border-radius: 0.35em; vertical-align: middle; margin-left: 0.5rem\">COMPANY</span>\n",
              "</mark>\n",
              " in Manhattan for his management of Ascot Partners LLP, a fund he founded that lost an estimated $1.8 billion with Madoff. Madoff, 70, was arrested on December 11 and charged with securities fraud. He is under house arrest in his Manhattan apartment on $10 million bail. On Monday, U.S. prosecutors sought to jail him, saying he had mailed jewelry and other valuables to family and friends in violation of a court order freezing all his belongings. A judge has not yet issued a ruling on the government's request. The case is New York University v. Ariel Fund Ltd 08- 08603803 in New York State Supreme Court (Manhattan) </div></span>"
            ]
          },
          "metadata": {}
        }
      ],
      "source": [
        "# We extract the entries (from Crunchbase)\n",
        "tries = skweak.gazetteers.extract_json_data(\"crunchbase_companies.json.gz\")\n",
        "gazetteer = skweak.gazetteers.GazetteerAnnotator(\"gazetteer\", tries)\n",
        "print(\"done building the gazetteer\")\n",
        "\n",
        "# We run the function on the full corpus\n",
        "docs = list(gazetteer.pipe(docs))\n",
        "\n",
        "# Show an example\n",
        "skweak.utils.display_entities(docs[28], \"gazetteer\")"
      ]
    },
    {
      "cell_type": "markdown",
      "metadata": {
        "id": "dqeL9EgTc87L"
      },
      "source": [
        "<br>\n",
        "And finally, we can also take advantage of machine learning models trained from data of related domains. Here, we will use a spacy model to get the usual named entities:"
      ]
    },
    {
      "cell_type": "code",
      "execution_count": 58,
      "metadata": {
        "id": "sngoP_R1c87M",
        "outputId": "e6dfb97c-39ac-4bf6-db46-28191b3553c7",
        "colab": {
          "base_uri": "https://localhost:8080/",
          "height": 772
        }
      },
      "outputs": [
        {
          "output_type": "display_data",
          "data": {
            "text/plain": [
              "<IPython.core.display.HTML object>"
            ],
            "text/html": [
              "<span class=\"tex2jax_ignore\"><div class=\"entities\" style=\"line-height: 2.5; direction: ltr\">\n",
              "<mark class=\"entity\" style=\"background: #7aecec; padding: 0.45em 0.6em; margin: 0 0.25em; line-height: 1; border-radius: 0.35em;\">\n",
              "    N.Y.\n",
              "    <span style=\"font-size: 0.8em; font-weight: bold; line-height: 1; border-radius: 0.35em; vertical-align: middle; margin-left: 0.5rem\">ORG</span>\n",
              "</mark>\n",
              " judge restrains Merkin funds in \n",
              "<mark class=\"entity\" style=\"background: #feca74; padding: 0.45em 0.6em; margin: 0 0.25em; line-height: 1; border-radius: 0.35em;\">\n",
              "    Madoff\n",
              "    <span style=\"font-size: 0.8em; font-weight: bold; line-height: 1; border-radius: 0.35em; vertical-align: middle; margin-left: 0.5rem\">GPE</span>\n",
              "</mark>\n",
              " lawsuit</br>\n",
              "<mark class=\"entity\" style=\"background: #feca74; padding: 0.45em 0.6em; margin: 0 0.25em; line-height: 1; border-radius: 0.35em;\">\n",
              "    NEW YORK\n",
              "    <span style=\"font-size: 0.8em; font-weight: bold; line-height: 1; border-radius: 0.35em; vertical-align: middle; margin-left: 0.5rem\">GPE</span>\n",
              "</mark>\n",
              " (\n",
              "<mark class=\"entity\" style=\"background: #7aecec; padding: 0.45em 0.6em; margin: 0 0.25em; line-height: 1; border-radius: 0.35em;\">\n",
              "    Reuters\n",
              "    <span style=\"font-size: 0.8em; font-weight: bold; line-height: 1; border-radius: 0.35em; vertical-align: middle; margin-left: 0.5rem\">ORG</span>\n",
              "</mark>\n",
              ") - A judge extended an order on \n",
              "<mark class=\"entity\" style=\"background: #bfe1d9; padding: 0.45em 0.6em; margin: 0 0.25em; line-height: 1; border-radius: 0.35em;\">\n",
              "    Tuesday\n",
              "    <span style=\"font-size: 0.8em; font-weight: bold; line-height: 1; border-radius: 0.35em; vertical-align: middle; margin-left: 0.5rem\">DATE</span>\n",
              "</mark>\n",
              " barring hedge fund founder \n",
              "<mark class=\"entity\" style=\"background: #aa9cfc; padding: 0.45em 0.6em; margin: 0 0.25em; line-height: 1; border-radius: 0.35em;\">\n",
              "    Ezra Merkin\n",
              "    <span style=\"font-size: 0.8em; font-weight: bold; line-height: 1; border-radius: 0.35em; vertical-align: middle; margin-left: 0.5rem\">PERSON</span>\n",
              "</mark>\n",
              " from shutting down funds that had invested with accused swindler \n",
              "<mark class=\"entity\" style=\"background: #aa9cfc; padding: 0.45em 0.6em; margin: 0 0.25em; line-height: 1; border-radius: 0.35em;\">\n",
              "    Bernard Madoff\n",
              "    <span style=\"font-size: 0.8em; font-weight: bold; line-height: 1; border-radius: 0.35em; vertical-align: middle; margin-left: 0.5rem\">PERSON</span>\n",
              "</mark>\n",
              " or withdrawing money from them. \n",
              "<mark class=\"entity\" style=\"background: #7aecec; padding: 0.45em 0.6em; margin: 0 0.25em; line-height: 1; border-radius: 0.35em;\">\n",
              "    New York State Supreme Court\n",
              "    <span style=\"font-size: 0.8em; font-weight: bold; line-height: 1; border-radius: 0.35em; vertical-align: middle; margin-left: 0.5rem\">ORG</span>\n",
              "</mark>\n",
              " Justice \n",
              "<mark class=\"entity\" style=\"background: #aa9cfc; padding: 0.45em 0.6em; margin: 0 0.25em; line-height: 1; border-radius: 0.35em;\">\n",
              "    Richard Lowe\n",
              "    <span style=\"font-size: 0.8em; font-weight: bold; line-height: 1; border-radius: 0.35em; vertical-align: middle; margin-left: 0.5rem\">PERSON</span>\n",
              "</mark>\n",
              " issued the extension in a lawsuit brought on \n",
              "<mark class=\"entity\" style=\"background: #bfe1d9; padding: 0.45em 0.6em; margin: 0 0.25em; line-height: 1; border-radius: 0.35em;\">\n",
              "    December 23\n",
              "    <span style=\"font-size: 0.8em; font-weight: bold; line-height: 1; border-radius: 0.35em; vertical-align: middle; margin-left: 0.5rem\">DATE</span>\n",
              "</mark>\n",
              " by \n",
              "<mark class=\"entity\" style=\"background: #7aecec; padding: 0.45em 0.6em; margin: 0 0.25em; line-height: 1; border-radius: 0.35em;\">\n",
              "    New York University\n",
              "    <span style=\"font-size: 0.8em; font-weight: bold; line-height: 1; border-radius: 0.35em; vertical-align: middle; margin-left: 0.5rem\">ORG</span>\n",
              "</mark>\n",
              ", which says it lost \n",
              "<mark class=\"entity\" style=\"background: #e4e7d2; padding: 0.45em 0.6em; margin: 0 0.25em; line-height: 1; border-radius: 0.35em;\">\n",
              "    $24 million\n",
              "    <span style=\"font-size: 0.8em; font-weight: bold; line-height: 1; border-radius: 0.35em; vertical-align: middle; margin-left: 0.5rem\">MONEY</span>\n",
              "</mark>\n",
              " when funds run by \n",
              "<mark class=\"entity\" style=\"background: #7aecec; padding: 0.45em 0.6em; margin: 0 0.25em; line-height: 1; border-radius: 0.35em;\">\n",
              "    Merkin\n",
              "    <span style=\"font-size: 0.8em; font-weight: bold; line-height: 1; border-radius: 0.35em; vertical-align: middle; margin-left: 0.5rem\">ORG</span>\n",
              "</mark>\n",
              " invested money with Madoff without its consent. Another judge issued the initial order on \n",
              "<mark class=\"entity\" style=\"background: #bfe1d9; padding: 0.45em 0.6em; margin: 0 0.25em; line-height: 1; border-radius: 0.35em;\">\n",
              "    December 24\n",
              "    <span style=\"font-size: 0.8em; font-weight: bold; line-height: 1; border-radius: 0.35em; vertical-align: middle; margin-left: 0.5rem\">DATE</span>\n",
              "</mark>\n",
              " to stop Merkin from liquidating \n",
              "<mark class=\"entity\" style=\"background: #aa9cfc; padding: 0.45em 0.6em; margin: 0 0.25em; line-height: 1; border-radius: 0.35em;\">\n",
              "    Ariel Fund Ltd\n",
              "    <span style=\"font-size: 0.8em; font-weight: bold; line-height: 1; border-radius: 0.35em; vertical-align: middle; margin-left: 0.5rem\">PERSON</span>\n",
              "</mark>\n",
              ", named in the lawsuit by the university along with \n",
              "<mark class=\"entity\" style=\"background: #aa9cfc; padding: 0.45em 0.6em; margin: 0 0.25em; line-height: 1; border-radius: 0.35em;\">\n",
              "    Merkin\n",
              "    <span style=\"font-size: 0.8em; font-weight: bold; line-height: 1; border-radius: 0.35em; vertical-align: middle; margin-left: 0.5rem\">PERSON</span>\n",
              "</mark>\n",
              " and his \n",
              "<mark class=\"entity\" style=\"background: #7aecec; padding: 0.45em 0.6em; margin: 0 0.25em; line-height: 1; border-radius: 0.35em;\">\n",
              "    Gabriel Capital Corp.\n",
              "    <span style=\"font-size: 0.8em; font-weight: bold; line-height: 1; border-radius: 0.35em; vertical-align: middle; margin-left: 0.5rem\">ORG</span>\n",
              "</mark>\n",
              " The initial order expired on \n",
              "<mark class=\"entity\" style=\"background: #bfe1d9; padding: 0.45em 0.6em; margin: 0 0.25em; line-height: 1; border-radius: 0.35em;\">\n",
              "    Tuesday\n",
              "    <span style=\"font-size: 0.8em; font-weight: bold; line-height: 1; border-radius: 0.35em; vertical-align: middle; margin-left: 0.5rem\">DATE</span>\n",
              "</mark>\n",
              ". Madoff, an investment adviser, is accused of running a \n",
              "<mark class=\"entity\" style=\"background: #e4e7d2; padding: 0.45em 0.6em; margin: 0 0.25em; line-height: 1; border-radius: 0.35em;\">\n",
              "    $50 billion\n",
              "    <span style=\"font-size: 0.8em; font-weight: bold; line-height: 1; border-radius: 0.35em; vertical-align: middle; margin-left: 0.5rem\">MONEY</span>\n",
              "</mark>\n",
              " securities fraud over \n",
              "<mark class=\"entity\" style=\"background: #bfe1d9; padding: 0.45em 0.6em; margin: 0 0.25em; line-height: 1; border-radius: 0.35em;\">\n",
              "    many years\n",
              "    <span style=\"font-size: 0.8em; font-weight: bold; line-height: 1; border-radius: 0.35em; vertical-align: middle; margin-left: 0.5rem\">DATE</span>\n",
              "</mark>\n",
              ". &quot;Until \n",
              "<mark class=\"entity\" style=\"background: #bfe1d9; padding: 0.45em 0.6em; margin: 0 0.25em; line-height: 1; border-radius: 0.35em;\">\n",
              "    December 12, 2008\n",
              "    <span style=\"font-size: 0.8em; font-weight: bold; line-height: 1; border-radius: 0.35em; vertical-align: middle; margin-left: 0.5rem\">DATE</span>\n",
              "</mark>\n",
              ", we had no knowledge that \n",
              "<mark class=\"entity\" style=\"background: #7aecec; padding: 0.45em 0.6em; margin: 0 0.25em; line-height: 1; border-radius: 0.35em;\">\n",
              "    NYU\n",
              "    <span style=\"font-size: 0.8em; font-weight: bold; line-height: 1; border-radius: 0.35em; vertical-align: middle; margin-left: 0.5rem\">ORG</span>\n",
              "</mark>\n",
              "'s funds were instead being managed by \n",
              "<mark class=\"entity\" style=\"background: #aa9cfc; padding: 0.45em 0.6em; margin: 0 0.25em; line-height: 1; border-radius: 0.35em;\">\n",
              "    Bernard Madoff\n",
              "    <span style=\"font-size: 0.8em; font-weight: bold; line-height: 1; border-radius: 0.35em; vertical-align: middle; margin-left: 0.5rem\">PERSON</span>\n",
              "</mark>\n",
              ",&quot; said an affidavit filed with the court by \n",
              "<mark class=\"entity\" style=\"background: #7aecec; padding: 0.45em 0.6em; margin: 0 0.25em; line-height: 1; border-radius: 0.35em;\">\n",
              "    NYU\n",
              "    <span style=\"font-size: 0.8em; font-weight: bold; line-height: 1; border-radius: 0.35em; vertical-align: middle; margin-left: 0.5rem\">ORG</span>\n",
              "</mark>\n",
              " chief investment officer \n",
              "<mark class=\"entity\" style=\"background: #aa9cfc; padding: 0.45em 0.6em; margin: 0 0.25em; line-height: 1; border-radius: 0.35em;\">\n",
              "    Maurice Maertens\n",
              "    <span style=\"font-size: 0.8em; font-weight: bold; line-height: 1; border-radius: 0.35em; vertical-align: middle; margin-left: 0.5rem\">PERSON</span>\n",
              "</mark>\n",
              ". &quot;None of the documents we received throughout \n",
              "<mark class=\"entity\" style=\"background: #bfe1d9; padding: 0.45em 0.6em; margin: 0 0.25em; line-height: 1; border-radius: 0.35em;\">\n",
              "    the years\n",
              "    <span style=\"font-size: 0.8em; font-weight: bold; line-height: 1; border-radius: 0.35em; vertical-align: middle; margin-left: 0.5rem\">DATE</span>\n",
              "</mark>\n",
              " from \n",
              "<mark class=\"entity\" style=\"background: #aa9cfc; padding: 0.45em 0.6em; margin: 0 0.25em; line-height: 1; border-radius: 0.35em;\">\n",
              "    Gabriel\n",
              "    <span style=\"font-size: 0.8em; font-weight: bold; line-height: 1; border-radius: 0.35em; vertical-align: middle; margin-left: 0.5rem\">PERSON</span>\n",
              "</mark>\n",
              " or \n",
              "<mark class=\"entity\" style=\"background: #aa9cfc; padding: 0.45em 0.6em; margin: 0 0.25em; line-height: 1; border-radius: 0.35em;\">\n",
              "    Ariel\n",
              "    <span style=\"font-size: 0.8em; font-weight: bold; line-height: 1; border-radius: 0.35em; vertical-align: middle; margin-left: 0.5rem\">PERSON</span>\n",
              "</mark>\n",
              " ever stated that \n",
              "<mark class=\"entity\" style=\"background: #aa9cfc; padding: 0.45em 0.6em; margin: 0 0.25em; line-height: 1; border-radius: 0.35em;\">\n",
              "    Mr Madoff\n",
              "    <span style=\"font-size: 0.8em; font-weight: bold; line-height: 1; border-radius: 0.35em; vertical-align: middle; margin-left: 0.5rem\">PERSON</span>\n",
              "</mark>\n",
              " was managing \n",
              "<mark class=\"entity\" style=\"background: #7aecec; padding: 0.45em 0.6em; margin: 0 0.25em; line-height: 1; border-radius: 0.35em;\">\n",
              "    NYU\n",
              "    <span style=\"font-size: 0.8em; font-weight: bold; line-height: 1; border-radius: 0.35em; vertical-align: middle; margin-left: 0.5rem\">ORG</span>\n",
              "</mark>\n",
              "'s assets.&quot; \n",
              "<mark class=\"entity\" style=\"background: #7aecec; padding: 0.45em 0.6em; margin: 0 0.25em; line-height: 1; border-radius: 0.35em;\">\n",
              "    Merkin\n",
              "    <span style=\"font-size: 0.8em; font-weight: bold; line-height: 1; border-radius: 0.35em; vertical-align: middle; margin-left: 0.5rem\">ORG</span>\n",
              "</mark>\n",
              "'s lawyer, \n",
              "<mark class=\"entity\" style=\"background: #aa9cfc; padding: 0.45em 0.6em; margin: 0 0.25em; line-height: 1; border-radius: 0.35em;\">\n",
              "    Andrew Levander\n",
              "    <span style=\"font-size: 0.8em; font-weight: bold; line-height: 1; border-radius: 0.35em; vertical-align: middle; margin-left: 0.5rem\">PERSON</span>\n",
              "</mark>\n",
              ", said in a statement that his client &quot;has always acted in good faith and did not deceive \n",
              "<mark class=\"entity\" style=\"background: #7aecec; padding: 0.45em 0.6em; margin: 0 0.25em; line-height: 1; border-radius: 0.35em;\">\n",
              "    NYU\n",
              "    <span style=\"font-size: 0.8em; font-weight: bold; line-height: 1; border-radius: 0.35em; vertical-align: middle; margin-left: 0.5rem\">ORG</span>\n",
              "</mark>\n",
              " or any other investors.&quot; \n",
              "<mark class=\"entity\" style=\"background: #7aecec; padding: 0.45em 0.6em; margin: 0 0.25em; line-height: 1; border-radius: 0.35em;\">\n",
              "    Merkin\n",
              "    <span style=\"font-size: 0.8em; font-weight: bold; line-height: 1; border-radius: 0.35em; vertical-align: middle; margin-left: 0.5rem\">ORG</span>\n",
              "</mark>\n",
              "'s personal losses from the purported fraud &quot;are in the many tens of millions of dollars...He shares the sorrow of all investors who have been cheated by \n",
              "<mark class=\"entity\" style=\"background: #aa9cfc; padding: 0.45em 0.6em; margin: 0 0.25em; line-height: 1; border-radius: 0.35em;\">\n",
              "    Madoff\n",
              "    <span style=\"font-size: 0.8em; font-weight: bold; line-height: 1; border-radius: 0.35em; vertical-align: middle; margin-left: 0.5rem\">PERSON</span>\n",
              "</mark>\n",
              ",&quot; the statement said. \n",
              "<mark class=\"entity\" style=\"background: #7aecec; padding: 0.45em 0.6em; margin: 0 0.25em; line-height: 1; border-radius: 0.35em;\">\n",
              "    NYU\n",
              "    <span style=\"font-size: 0.8em; font-weight: bold; line-height: 1; border-radius: 0.35em; vertical-align: middle; margin-left: 0.5rem\">ORG</span>\n",
              "</mark>\n",
              " claims the title as the largest private \n",
              "<mark class=\"entity\" style=\"background: #feca74; padding: 0.45em 0.6em; margin: 0 0.25em; line-height: 1; border-radius: 0.35em;\">\n",
              "    U.S.\n",
              "    <span style=\"font-size: 0.8em; font-weight: bold; line-height: 1; border-radius: 0.35em; vertical-align: middle; margin-left: 0.5rem\">GPE</span>\n",
              "</mark>\n",
              " university and is among several institutions and individual investors seeking to recover losses. \n",
              "<mark class=\"entity\" style=\"background: #aa9cfc; padding: 0.45em 0.6em; margin: 0 0.25em; line-height: 1; border-radius: 0.35em;\">\n",
              "    Merkin\n",
              "    <span style=\"font-size: 0.8em; font-weight: bold; line-height: 1; border-radius: 0.35em; vertical-align: middle; margin-left: 0.5rem\">PERSON</span>\n",
              "</mark>\n",
              " is chairman of \n",
              "<mark class=\"entity\" style=\"background: #7aecec; padding: 0.45em 0.6em; margin: 0 0.25em; line-height: 1; border-radius: 0.35em;\">\n",
              "    GMAC\n",
              "    <span style=\"font-size: 0.8em; font-weight: bold; line-height: 1; border-radius: 0.35em; vertical-align: middle; margin-left: 0.5rem\">ORG</span>\n",
              "</mark>\n",
              ", the finance business owned by \n",
              "<mark class=\"entity\" style=\"background: #7aecec; padding: 0.45em 0.6em; margin: 0 0.25em; line-height: 1; border-radius: 0.35em;\">\n",
              "    General Motors Corp\n",
              "    <span style=\"font-size: 0.8em; font-weight: bold; line-height: 1; border-radius: 0.35em; vertical-align: middle; margin-left: 0.5rem\">ORG</span>\n",
              "</mark>\n",
              " ( GM.N ) and private equity firm \n",
              "<mark class=\"entity\" style=\"background: #7aecec; padding: 0.45em 0.6em; margin: 0 0.25em; line-height: 1; border-radius: 0.35em;\">\n",
              "    Cerberus Capital Management LP CBS.UL\n",
              "    <span style=\"font-size: 0.8em; font-weight: bold; line-height: 1; border-radius: 0.35em; vertical-align: middle; margin-left: 0.5rem\">ORG</span>\n",
              "</mark>\n",
              ". \n",
              "<mark class=\"entity\" style=\"background: #7aecec; padding: 0.45em 0.6em; margin: 0 0.25em; line-height: 1; border-radius: 0.35em;\">\n",
              "    The U.S. Treasury\n",
              "    <span style=\"font-size: 0.8em; font-weight: bold; line-height: 1; border-radius: 0.35em; vertical-align: middle; margin-left: 0.5rem\">ORG</span>\n",
              "</mark>\n",
              " gave \n",
              "<mark class=\"entity\" style=\"background: #7aecec; padding: 0.45em 0.6em; margin: 0 0.25em; line-height: 1; border-radius: 0.35em;\">\n",
              "    GMAC\n",
              "    <span style=\"font-size: 0.8em; font-weight: bold; line-height: 1; border-radius: 0.35em; vertical-align: middle; margin-left: 0.5rem\">ORG</span>\n",
              "</mark>\n",
              " \n",
              "<mark class=\"entity\" style=\"background: #e4e7d2; padding: 0.45em 0.6em; margin: 0 0.25em; line-height: 1; border-radius: 0.35em;\">\n",
              "    $5 billion\n",
              "    <span style=\"font-size: 0.8em; font-weight: bold; line-height: 1; border-radius: 0.35em; vertical-align: middle; margin-left: 0.5rem\">MONEY</span>\n",
              "</mark>\n",
              " from its \n",
              "<mark class=\"entity\" style=\"background: #e4e7d2; padding: 0.45em 0.6em; margin: 0 0.25em; line-height: 1; border-radius: 0.35em;\">\n",
              "    $700 billion\n",
              "    <span style=\"font-size: 0.8em; font-weight: bold; line-height: 1; border-radius: 0.35em; vertical-align: middle; margin-left: 0.5rem\">MONEY</span>\n",
              "</mark>\n",
              " Troubled Asset Relief Program on \n",
              "<mark class=\"entity\" style=\"background: #bfe1d9; padding: 0.45em 0.6em; margin: 0 0.25em; line-height: 1; border-radius: 0.35em;\">\n",
              "    December 29\n",
              "    <span style=\"font-size: 0.8em; font-weight: bold; line-height: 1; border-radius: 0.35em; vertical-align: middle; margin-left: 0.5rem\">DATE</span>\n",
              "</mark>\n",
              ". \n",
              "<mark class=\"entity\" style=\"background: #bfe1d9; padding: 0.45em 0.6em; margin: 0 0.25em; line-height: 1; border-radius: 0.35em;\">\n",
              "    Five days earlier\n",
              "    <span style=\"font-size: 0.8em; font-weight: bold; line-height: 1; border-radius: 0.35em; vertical-align: middle; margin-left: 0.5rem\">DATE</span>\n",
              "</mark>\n",
              ", \n",
              "<mark class=\"entity\" style=\"background: #7aecec; padding: 0.45em 0.6em; margin: 0 0.25em; line-height: 1; border-radius: 0.35em;\">\n",
              "    the Federal Reserve\n",
              "    <span style=\"font-size: 0.8em; font-weight: bold; line-height: 1; border-radius: 0.35em; vertical-align: middle; margin-left: 0.5rem\">ORG</span>\n",
              "</mark>\n",
              " granted \n",
              "<mark class=\"entity\" style=\"background: #7aecec; padding: 0.45em 0.6em; margin: 0 0.25em; line-height: 1; border-radius: 0.35em;\">\n",
              "    GMAC\n",
              "    <span style=\"font-size: 0.8em; font-weight: bold; line-height: 1; border-radius: 0.35em; vertical-align: middle; margin-left: 0.5rem\">ORG</span>\n",
              "</mark>\n",
              " bank holding company status so it could get access to the bailout money. \n",
              "<mark class=\"entity\" style=\"background: #aa9cfc; padding: 0.45em 0.6em; margin: 0 0.25em; line-height: 1; border-radius: 0.35em;\">\n",
              "    Merkin\n",
              "    <span style=\"font-size: 0.8em; font-weight: bold; line-height: 1; border-radius: 0.35em; vertical-align: middle; margin-left: 0.5rem\">PERSON</span>\n",
              "</mark>\n",
              " has also been sued in \n",
              "<mark class=\"entity\" style=\"background: #feca74; padding: 0.45em 0.6em; margin: 0 0.25em; line-height: 1; border-radius: 0.35em;\">\n",
              "    U.S.\n",
              "    <span style=\"font-size: 0.8em; font-weight: bold; line-height: 1; border-radius: 0.35em; vertical-align: middle; margin-left: 0.5rem\">GPE</span>\n",
              "</mark>\n",
              " \n",
              "<mark class=\"entity\" style=\"background: #7aecec; padding: 0.45em 0.6em; margin: 0 0.25em; line-height: 1; border-radius: 0.35em;\">\n",
              "    District Court\n",
              "    <span style=\"font-size: 0.8em; font-weight: bold; line-height: 1; border-radius: 0.35em; vertical-align: middle; margin-left: 0.5rem\">ORG</span>\n",
              "</mark>\n",
              " in \n",
              "<mark class=\"entity\" style=\"background: #feca74; padding: 0.45em 0.6em; margin: 0 0.25em; line-height: 1; border-radius: 0.35em;\">\n",
              "    Manhattan\n",
              "    <span style=\"font-size: 0.8em; font-weight: bold; line-height: 1; border-radius: 0.35em; vertical-align: middle; margin-left: 0.5rem\">GPE</span>\n",
              "</mark>\n",
              " for his management of \n",
              "<mark class=\"entity\" style=\"background: #7aecec; padding: 0.45em 0.6em; margin: 0 0.25em; line-height: 1; border-radius: 0.35em;\">\n",
              "    Ascot Partners LLP\n",
              "    <span style=\"font-size: 0.8em; font-weight: bold; line-height: 1; border-radius: 0.35em; vertical-align: middle; margin-left: 0.5rem\">ORG</span>\n",
              "</mark>\n",
              ", a fund he founded that lost \n",
              "<mark class=\"entity\" style=\"background: #e4e7d2; padding: 0.45em 0.6em; margin: 0 0.25em; line-height: 1; border-radius: 0.35em;\">\n",
              "    an estimated $1.8 billion\n",
              "    <span style=\"font-size: 0.8em; font-weight: bold; line-height: 1; border-radius: 0.35em; vertical-align: middle; margin-left: 0.5rem\">MONEY</span>\n",
              "</mark>\n",
              " with \n",
              "<mark class=\"entity\" style=\"background: #feca74; padding: 0.45em 0.6em; margin: 0 0.25em; line-height: 1; border-radius: 0.35em;\">\n",
              "    Madoff\n",
              "    <span style=\"font-size: 0.8em; font-weight: bold; line-height: 1; border-radius: 0.35em; vertical-align: middle; margin-left: 0.5rem\">GPE</span>\n",
              "</mark>\n",
              ". Madoff, \n",
              "<mark class=\"entity\" style=\"background: #bfe1d9; padding: 0.45em 0.6em; margin: 0 0.25em; line-height: 1; border-radius: 0.35em;\">\n",
              "    70\n",
              "    <span style=\"font-size: 0.8em; font-weight: bold; line-height: 1; border-radius: 0.35em; vertical-align: middle; margin-left: 0.5rem\">DATE</span>\n",
              "</mark>\n",
              ", was arrested on \n",
              "<mark class=\"entity\" style=\"background: #bfe1d9; padding: 0.45em 0.6em; margin: 0 0.25em; line-height: 1; border-radius: 0.35em;\">\n",
              "    December 11\n",
              "    <span style=\"font-size: 0.8em; font-weight: bold; line-height: 1; border-radius: 0.35em; vertical-align: middle; margin-left: 0.5rem\">DATE</span>\n",
              "</mark>\n",
              " and charged with securities fraud. He is under house arrest in his \n",
              "<mark class=\"entity\" style=\"background: #feca74; padding: 0.45em 0.6em; margin: 0 0.25em; line-height: 1; border-radius: 0.35em;\">\n",
              "    Manhattan\n",
              "    <span style=\"font-size: 0.8em; font-weight: bold; line-height: 1; border-radius: 0.35em; vertical-align: middle; margin-left: 0.5rem\">GPE</span>\n",
              "</mark>\n",
              " apartment on \n",
              "<mark class=\"entity\" style=\"background: #e4e7d2; padding: 0.45em 0.6em; margin: 0 0.25em; line-height: 1; border-radius: 0.35em;\">\n",
              "    $10 million\n",
              "    <span style=\"font-size: 0.8em; font-weight: bold; line-height: 1; border-radius: 0.35em; vertical-align: middle; margin-left: 0.5rem\">MONEY</span>\n",
              "</mark>\n",
              " bail. On \n",
              "<mark class=\"entity\" style=\"background: #bfe1d9; padding: 0.45em 0.6em; margin: 0 0.25em; line-height: 1; border-radius: 0.35em;\">\n",
              "    Monday\n",
              "    <span style=\"font-size: 0.8em; font-weight: bold; line-height: 1; border-radius: 0.35em; vertical-align: middle; margin-left: 0.5rem\">DATE</span>\n",
              "</mark>\n",
              ", \n",
              "<mark class=\"entity\" style=\"background: #feca74; padding: 0.45em 0.6em; margin: 0 0.25em; line-height: 1; border-radius: 0.35em;\">\n",
              "    U.S.\n",
              "    <span style=\"font-size: 0.8em; font-weight: bold; line-height: 1; border-radius: 0.35em; vertical-align: middle; margin-left: 0.5rem\">GPE</span>\n",
              "</mark>\n",
              " prosecutors sought to jail him, saying he had mailed jewelry and other valuables to family and friends in violation of a court order freezing all his belongings. A judge has not yet issued a ruling on the government's request. The case is \n",
              "<mark class=\"entity\" style=\"background: #7aecec; padding: 0.45em 0.6em; margin: 0 0.25em; line-height: 1; border-radius: 0.35em;\">\n",
              "    New York University\n",
              "    <span style=\"font-size: 0.8em; font-weight: bold; line-height: 1; border-radius: 0.35em; vertical-align: middle; margin-left: 0.5rem\">ORG</span>\n",
              "</mark>\n",
              " v. \n",
              "<mark class=\"entity\" style=\"background: #aa9cfc; padding: 0.45em 0.6em; margin: 0 0.25em; line-height: 1; border-radius: 0.35em;\">\n",
              "    Ariel Fund Ltd\n",
              "    <span style=\"font-size: 0.8em; font-weight: bold; line-height: 1; border-radius: 0.35em; vertical-align: middle; margin-left: 0.5rem\">PERSON</span>\n",
              "</mark>\n",
              " 08- \n",
              "<mark class=\"entity\" style=\"background: #bfe1d9; padding: 0.45em 0.6em; margin: 0 0.25em; line-height: 1; border-radius: 0.35em;\">\n",
              "    08603803\n",
              "    <span style=\"font-size: 0.8em; font-weight: bold; line-height: 1; border-radius: 0.35em; vertical-align: middle; margin-left: 0.5rem\">DATE</span>\n",
              "</mark>\n",
              " in \n",
              "<mark class=\"entity\" style=\"background: #feca74; padding: 0.45em 0.6em; margin: 0 0.25em; line-height: 1; border-radius: 0.35em;\">\n",
              "    New York State Supreme Court\n",
              "    <span style=\"font-size: 0.8em; font-weight: bold; line-height: 1; border-radius: 0.35em; vertical-align: middle; margin-left: 0.5rem\">GPE</span>\n",
              "</mark>\n",
              " (\n",
              "<mark class=\"entity\" style=\"background: #feca74; padding: 0.45em 0.6em; margin: 0 0.25em; line-height: 1; border-radius: 0.35em;\">\n",
              "    Manhattan\n",
              "    <span style=\"font-size: 0.8em; font-weight: bold; line-height: 1; border-radius: 0.35em; vertical-align: middle; margin-left: 0.5rem\">GPE</span>\n",
              "</mark>\n",
              ") </div></span>"
            ]
          },
          "metadata": {}
        }
      ],
      "source": [
        "\n",
        "# Run a NER model trained on OntoNotes 5.0\n",
        "ner = skweak.spacy.ModelAnnotator(\"spacy\", \"en_core_web_sm\")\n",
        "docs = list(ner.pipe(docs))\n",
        "\n",
        "# Show an example\n",
        "skweak.utils.display_entities(docs[28], \"spacy\")"
      ]
    },
    {
      "cell_type": "markdown",
      "metadata": {
        "id": "wRlBFY-dc87O"
      },
      "source": [
        "<br> \n",
        "\n",
        "## Step 2: aggregation\n",
        "\n",
        "Once the labelling functions have been applied, we must then aggregate their results, to get a single annotation for each document. This is done in `skweak` by estimating a generative model. Aggregating the labels can be done in a few lines of code. However, it is important to understand that we are estimating 3 particular parameters for the HMM model.\n",
        "\n",
        "1. initial probabilities of the label on a token/span\n",
        "2. transition probability matrix of moving from one token/span to another\n",
        "3. emission/output probability matrix (one for each labelling function)"
      ]
    },
    {
      "cell_type": "code",
      "execution_count": 59,
      "metadata": {
        "colab": {
          "base_uri": "https://localhost:8080/"
        },
        "id": "_3_Lkbm5gDCW",
        "outputId": "1641d7ae-963d-4276-a265-19870e2b94e8"
      },
      "outputs": [
        {
          "output_type": "stream",
          "name": "stdout",
          "text": [
            "NOTE: The number output below at each EM iteration, provide the likelihood of the model \n",
            "  with respect to the training data and the evolution of the likelihood with respect to the previous iteration.\n",
            "  We see that the likelihood is very low in many cases, this is primarily due to the selection of conflicting  labelling functions. This can be fine-tuned by enhancing the labelling functions and tweaking the accuracy of the input  parameters in the model. \n",
            "Starting iteration 1\n",
            "Finished E-step with 195 documents\n",
            "Starting iteration 2\n"
          ]
        },
        {
          "output_type": "stream",
          "name": "stderr",
          "text": [
            "         1      -67934.8666             +nan\n"
          ]
        },
        {
          "output_type": "stream",
          "name": "stdout",
          "text": [
            "Finished E-step with 195 documents\n",
            "Starting iteration 3\n"
          ]
        },
        {
          "output_type": "stream",
          "name": "stderr",
          "text": [
            "         2      -63804.6987       +4130.1679\n"
          ]
        },
        {
          "output_type": "stream",
          "name": "stdout",
          "text": [
            "Finished E-step with 195 documents\n",
            "Starting iteration 4\n"
          ]
        },
        {
          "output_type": "stream",
          "name": "stderr",
          "text": [
            "         3      -63715.9821         +88.7166\n"
          ]
        },
        {
          "output_type": "stream",
          "name": "stdout",
          "text": [
            "Finished E-step with 195 documents\n"
          ]
        },
        {
          "output_type": "stream",
          "name": "stderr",
          "text": [
            "         4      -63701.5607         +14.4214\n"
          ]
        }
      ],
      "source": [
        "# We define the aggregation model\n",
        "model = skweak.aggregation.HMM(\"hmm\", [\"COMPANY\", \"OTHER_ORG\",\"UNIT\",\"ADJ\", \"MONTH\"])\n",
        "\n",
        "# We indicate that \"ORG\" is an underspecified value, which may\n",
        "# represent either COMPANY or OTHER_ORG\n",
        "model.add_underspecified_label(\"ORG\", [\"COMPANY\", \"OTHER_ORG\"])\n",
        "\n",
        "print(\"NOTE: The number output below at each EM iteration, provide the likelihood of the model \\n \\\n",
        " with respect to the training data and the evolution of the likelihood with respect to the previous iteration.\\n \\\n",
        " We see that the likelihood is very low in many cases, this is primarily due to the selection of conflicting\\n \\\n",
        " labelling functions. This can be fine-tuned by enhancing the labelling functions and tweaking the accuracy of the input\\n \\\n",
        " parameters in the model (adding weight factors where one model can overpower others in case of conflicts ) \")\n",
        "\n",
        "# And run the estimation\n",
        "docs = model.fit_and_aggregate(docs)"
      ]
    },
    {
      "cell_type": "markdown",
      "source": [
        "### Visualize the Aggregated Labels"
      ],
      "metadata": {
        "id": "yazfQpIKlcou"
      }
    },
    {
      "cell_type": "code",
      "execution_count": 60,
      "metadata": {
        "colab": {
          "base_uri": "https://localhost:8080/",
          "height": 702
        },
        "id": "0yZ-Atq3gDCX",
        "outputId": "3d3205be-03cb-4576-a303-efbf723c7aac"
      },
      "outputs": [
        {
          "output_type": "display_data",
          "data": {
            "text/plain": [
              "<IPython.core.display.HTML object>"
            ],
            "text/html": [
              "<span class=\"tex2jax_ignore\"><style>\n",
              ".tooltip {  position: relative;  border-bottom: 1px dotted black; }\n",
              ".tooltip .tooltip-text {visibility: hidden;  background-color: black;  color: white;\n",
              "                        line-height: 1.2;  text-align: right;  border-radius: 6px;\n",
              "                        padding: 5px 0; position: absolute; z-index: 1; margin-left:1em;\n",
              "                        opacity: 0; transition: opacity 1s;}\n",
              ".tooltip .tooltip-text::after {position: absolute; top: 1.5em; right: 100%; margin-top: -5px;\n",
              "                               border-width: 5px; border-style: solid; \n",
              "                               border-color: transparent black transparent transparent;}\n",
              ".tooltip:hover .tooltip-text {visibility: visible; opacity: 1;}\n",
              "</style>\n",
              "<div class=\"entities\" style=\"line-height: 2.5; direction: ltr\"><label class='tooltip'>N.Y.<span class='tooltip-text' style='width:147px'>spacy:\tORG&nbsp;&nbsp</span></label> judge restrains Merkin funds in <label class='tooltip'>Madoff<span class='tooltip-text' style='width:147px'>spacy:\tGPE&nbsp;&nbsp</span></label> lawsuit</br><label class='tooltip'>NEW<span class='tooltip-text' style='width:147px'>spacy:\tGPE&nbsp;&nbsp</span></label> <label class='tooltip'>YORK<span class='tooltip-text' style='width:147px'>spacy:\tGPE&nbsp;&nbsp</span></label> (\n",
              "<mark class=\"entity\" style=\"background: #ddd; padding: 0.45em 0.6em; margin: 0 0.25em; line-height: 1; border-radius: 0.35em;\">\n",
              "    <label class='tooltip'>Reuters<span class='tooltip-text' style='width:203px'>gazetteer:\tCOMPANY&nbsp;&nbsp<br>spacy:\tORG&nbsp;&nbsp</span></label>\n",
              "    <span style=\"font-size: 0.8em; font-weight: bold; line-height: 1; border-radius: 0.35em; vertical-align: middle; margin-left: 0.5rem\">COMPANY</span>\n",
              "</mark>\n",
              ") - A judge extended an order on <label class='tooltip'>Tuesday<span class='tooltip-text' style='width:154px'>spacy:\tDATE&nbsp;&nbsp</span></label> barring hedge fund founder <label class='tooltip'>Ezra<span class='tooltip-text' style='width:168px'>spacy:\tPERSON&nbsp;&nbsp</span></label> <label class='tooltip'>Merkin<span class='tooltip-text' style='width:168px'>spacy:\tPERSON&nbsp;&nbsp</span></label> from shutting down funds that had invested with accused swindler <label class='tooltip'>Bernard<span class='tooltip-text' style='width:168px'>spacy:\tPERSON&nbsp;&nbsp</span></label> <label class='tooltip'>Madoff<span class='tooltip-text' style='width:168px'>spacy:\tPERSON&nbsp;&nbsp</span></label> or withdrawing money from them. \n",
              "<mark class=\"entity\" style=\"background: #ddd; padding: 0.45em 0.6em; margin: 0 0.25em; line-height: 1; border-radius: 0.35em;\">\n",
              "    <label class='tooltip'>New<span class='tooltip-text' style='width:280px'>other_org_detector:\tOTHER_ORG&nbsp;&nbsp<br>spacy:\tORG&nbsp;&nbsp</span></label> <label class='tooltip'>York<span class='tooltip-text' style='width:280px'>other_org_detector:\tOTHER_ORG&nbsp;&nbsp<br>spacy:\tORG&nbsp;&nbsp</span></label> <label class='tooltip'>State<span class='tooltip-text' style='width:280px'>other_org_detector:\tOTHER_ORG&nbsp;&nbsp<br>spacy:\tORG&nbsp;&nbsp</span></label> <label class='tooltip'>Supreme<span class='tooltip-text' style='width:280px'>other_org_detector:\tOTHER_ORG&nbsp;&nbsp<br>spacy:\tORG&nbsp;&nbsp</span></label> <label class='tooltip'>Court<span class='tooltip-text' style='width:280px'>other_org_detector:\tOTHER_ORG&nbsp;&nbsp<br>spacy:\tORG&nbsp;&nbsp</span></label> <label class='tooltip'>Justice<span class='tooltip-text' style='width:280px'>other_org_detector:\tOTHER_ORG&nbsp;&nbsp</span></label> <label class='tooltip'>Richard<span class='tooltip-text' style='width:280px'>other_org_detector:\tOTHER_ORG&nbsp;&nbsp<br>spacy:\tPERSON&nbsp;&nbsp</span></label> <label class='tooltip'>Lowe<span class='tooltip-text' style='width:280px'>other_org_detector:\tOTHER_ORG&nbsp;&nbsp<br>spacy:\tPERSON&nbsp;&nbsp</span></label>\n",
              "    <span style=\"font-size: 0.8em; font-weight: bold; line-height: 1; border-radius: 0.35em; vertical-align: middle; margin-left: 0.5rem\">OTHER_ORG</span>\n",
              "</mark>\n",
              " issued the extension in a lawsuit brought on \n",
              "<mark class=\"entity\" style=\"background: #ddd; padding: 0.45em 0.6em; margin: 0 0.25em; line-height: 1; border-radius: 0.35em;\">\n",
              "    <label class='tooltip'>December<span class='tooltip-text' style='width:224px'>month_detector:\tMONTH&nbsp;&nbsp<br>spacy:\tDATE&nbsp;&nbsp</span></label>\n",
              "    <span style=\"font-size: 0.8em; font-weight: bold; line-height: 1; border-radius: 0.35em; vertical-align: middle; margin-left: 0.5rem\">MONTH</span>\n",
              "</mark>\n",
              " <label class='tooltip'>23<span class='tooltip-text' style='width:154px'>spacy:\tDATE&nbsp;&nbsp</span></label> by \n",
              "<mark class=\"entity\" style=\"background: #ddd; padding: 0.45em 0.6em; margin: 0 0.25em; line-height: 1; border-radius: 0.35em;\">\n",
              "    <label class='tooltip'>New<span class='tooltip-text' style='width:280px'>other_org_detector:\tOTHER_ORG&nbsp;&nbsp<br>spacy:\tORG&nbsp;&nbsp</span></label> <label class='tooltip'>York<span class='tooltip-text' style='width:280px'>other_org_detector:\tOTHER_ORG&nbsp;&nbsp<br>spacy:\tORG&nbsp;&nbsp</span></label> <label class='tooltip'>University<span class='tooltip-text' style='width:280px'>other_org_detector:\tOTHER_ORG&nbsp;&nbsp<br>spacy:\tORG&nbsp;&nbsp</span></label>\n",
              "    <span style=\"font-size: 0.8em; font-weight: bold; line-height: 1; border-radius: 0.35em; vertical-align: middle; margin-left: 0.5rem\">OTHER_ORG</span>\n",
              "</mark>\n",
              ", which says it lost <label class='tooltip'>$<span class='tooltip-text' style='width:161px'>spacy:\tMONEY&nbsp;&nbsp</span></label><label class='tooltip'>24<span class='tooltip-text' style='width:161px'>spacy:\tMONEY&nbsp;&nbsp</span></label> \n",
              "<mark class=\"entity\" style=\"background: #ddd; padding: 0.45em 0.6em; margin: 0 0.25em; line-height: 1; border-radius: 0.35em;\">\n",
              "    <label class='tooltip'>million<span class='tooltip-text' style='width:210px'>unit_detector:\tUNIT&nbsp;&nbsp<br>spacy:\tMONEY&nbsp;&nbsp</span></label>\n",
              "    <span style=\"font-size: 0.8em; font-weight: bold; line-height: 1; border-radius: 0.35em; vertical-align: middle; margin-left: 0.5rem\">UNIT</span>\n",
              "</mark>\n",
              " when funds run by <label class='tooltip'>Merkin<span class='tooltip-text' style='width:147px'>spacy:\tORG&nbsp;&nbsp</span></label> invested money with Madoff without its consent. Another judge issued the \n",
              "<mark class=\"entity\" style=\"background: #ddd; padding: 0.45em 0.6em; margin: 0 0.25em; line-height: 1; border-radius: 0.35em;\">\n",
              "    <label class='tooltip'>initial<span class='tooltip-text' style='width:196px'>adj_detector:\tADJ&nbsp;&nbsp</span></label>\n",
              "    <span style=\"font-size: 0.8em; font-weight: bold; line-height: 1; border-radius: 0.35em; vertical-align: middle; margin-left: 0.5rem\">ADJ</span>\n",
              "</mark>\n",
              " order on \n",
              "<mark class=\"entity\" style=\"background: #ddd; padding: 0.45em 0.6em; margin: 0 0.25em; line-height: 1; border-radius: 0.35em;\">\n",
              "    <label class='tooltip'>December<span class='tooltip-text' style='width:224px'>month_detector:\tMONTH&nbsp;&nbsp<br>spacy:\tDATE&nbsp;&nbsp</span></label>\n",
              "    <span style=\"font-size: 0.8em; font-weight: bold; line-height: 1; border-radius: 0.35em; vertical-align: middle; margin-left: 0.5rem\">MONTH</span>\n",
              "</mark>\n",
              " <label class='tooltip'>24<span class='tooltip-text' style='width:154px'>spacy:\tDATE&nbsp;&nbsp</span></label> to stop Merkin from \n",
              "<mark class=\"entity\" style=\"background: #ddd; padding: 0.45em 0.6em; margin: 0 0.25em; line-height: 1; border-radius: 0.35em;\">\n",
              "    <label class='tooltip'>liquidating<span class='tooltip-text' style='width:252px'>company_detector:\tCOMPANY&nbsp;&nbsp</span></label> <label class='tooltip'>Ariel<span class='tooltip-text' style='width:252px'>company_detector:\tCOMPANY&nbsp;&nbsp<br>spacy:\tPERSON&nbsp;&nbsp</span></label> <label class='tooltip'>Fund<span class='tooltip-text' style='width:252px'>company_detector:\tCOMPANY&nbsp;&nbsp<br>spacy:\tPERSON&nbsp;&nbsp</span></label> <label class='tooltip'>Ltd<span class='tooltip-text' style='width:252px'>company_detector:\tCOMPANY&nbsp;&nbsp<br>spacy:\tPERSON&nbsp;&nbsp</span></label>\n",
              "    <span style=\"font-size: 0.8em; font-weight: bold; line-height: 1; border-radius: 0.35em; vertical-align: middle; margin-left: 0.5rem\">COMPANY</span>\n",
              "</mark>\n",
              ", named in the lawsuit by the university along with <label class='tooltip'>Merkin<span class='tooltip-text' style='width:168px'>spacy:\tPERSON&nbsp;&nbsp</span></label> and his <label class='tooltip'>Gabriel<span class='tooltip-text' style='width:147px'>spacy:\tORG&nbsp;&nbsp</span></label> <label class='tooltip'>Capital<span class='tooltip-text' style='width:147px'>spacy:\tORG&nbsp;&nbsp</span></label> <label class='tooltip'>Corp.<span class='tooltip-text' style='width:147px'>spacy:\tORG&nbsp;&nbsp</span></label> The \n",
              "<mark class=\"entity\" style=\"background: #ddd; padding: 0.45em 0.6em; margin: 0 0.25em; line-height: 1; border-radius: 0.35em;\">\n",
              "    <label class='tooltip'>initial<span class='tooltip-text' style='width:196px'>adj_detector:\tADJ&nbsp;&nbsp</span></label>\n",
              "    <span style=\"font-size: 0.8em; font-weight: bold; line-height: 1; border-radius: 0.35em; vertical-align: middle; margin-left: 0.5rem\">ADJ</span>\n",
              "</mark>\n",
              " order expired on <label class='tooltip'>Tuesday<span class='tooltip-text' style='width:154px'>spacy:\tDATE&nbsp;&nbsp</span></label>. Madoff, an investment adviser, is accused of running a <label class='tooltip'>$<span class='tooltip-text' style='width:161px'>spacy:\tMONEY&nbsp;&nbsp</span></label><label class='tooltip'>50<span class='tooltip-text' style='width:161px'>spacy:\tMONEY&nbsp;&nbsp</span></label> \n",
              "<mark class=\"entity\" style=\"background: #ddd; padding: 0.45em 0.6em; margin: 0 0.25em; line-height: 1; border-radius: 0.35em;\">\n",
              "    <label class='tooltip'>billion<span class='tooltip-text' style='width:210px'>unit_detector:\tUNIT&nbsp;&nbsp<br>spacy:\tMONEY&nbsp;&nbsp</span></label>\n",
              "    <span style=\"font-size: 0.8em; font-weight: bold; line-height: 1; border-radius: 0.35em; vertical-align: middle; margin-left: 0.5rem\">UNIT</span>\n",
              "</mark>\n",
              " securities fraud over \n",
              "<mark class=\"entity\" style=\"background: #ddd; padding: 0.45em 0.6em; margin: 0 0.25em; line-height: 1; border-radius: 0.35em;\">\n",
              "    <label class='tooltip'>many<span class='tooltip-text' style='width:196px'>adj_detector:\tADJ&nbsp;&nbsp<br>spacy:\tDATE&nbsp;&nbsp</span></label>\n",
              "    <span style=\"font-size: 0.8em; font-weight: bold; line-height: 1; border-radius: 0.35em; vertical-align: middle; margin-left: 0.5rem\">ADJ</span>\n",
              "</mark>\n",
              " <label class='tooltip'>years<span class='tooltip-text' style='width:154px'>spacy:\tDATE&nbsp;&nbsp</span></label>. &quot;Until \n",
              "<mark class=\"entity\" style=\"background: #ddd; padding: 0.45em 0.6em; margin: 0 0.25em; line-height: 1; border-radius: 0.35em;\">\n",
              "    <label class='tooltip'>December<span class='tooltip-text' style='width:224px'>month_detector:\tMONTH&nbsp;&nbsp<br>spacy:\tDATE&nbsp;&nbsp</span></label>\n",
              "    <span style=\"font-size: 0.8em; font-weight: bold; line-height: 1; border-radius: 0.35em; vertical-align: middle; margin-left: 0.5rem\">MONTH</span>\n",
              "</mark>\n",
              " <label class='tooltip'>12<span class='tooltip-text' style='width:154px'>spacy:\tDATE&nbsp;&nbsp</span></label><label class='tooltip'>,<span class='tooltip-text' style='width:154px'>spacy:\tDATE&nbsp;&nbsp</span></label> <label class='tooltip'>2008<span class='tooltip-text' style='width:154px'>spacy:\tDATE&nbsp;&nbsp</span></label>, we had no knowledge that <label class='tooltip'>NYU<span class='tooltip-text' style='width:147px'>spacy:\tORG&nbsp;&nbsp</span></label>'s funds were instead being managed by <label class='tooltip'>Bernard<span class='tooltip-text' style='width:168px'>spacy:\tPERSON&nbsp;&nbsp</span></label> <label class='tooltip'>Madoff<span class='tooltip-text' style='width:168px'>spacy:\tPERSON&nbsp;&nbsp</span></label>,&quot; said an affidavit filed with the court by <label class='tooltip'>NYU<span class='tooltip-text' style='width:147px'>spacy:\tORG&nbsp;&nbsp</span></label> \n",
              "<mark class=\"entity\" style=\"background: #ddd; padding: 0.45em 0.6em; margin: 0 0.25em; line-height: 1; border-radius: 0.35em;\">\n",
              "    <label class='tooltip'>chief<span class='tooltip-text' style='width:196px'>adj_detector:\tADJ&nbsp;&nbsp</span></label>\n",
              "    <span style=\"font-size: 0.8em; font-weight: bold; line-height: 1; border-radius: 0.35em; vertical-align: middle; margin-left: 0.5rem\">ADJ</span>\n",
              "</mark>\n",
              " investment officer <label class='tooltip'>Maurice<span class='tooltip-text' style='width:168px'>spacy:\tPERSON&nbsp;&nbsp</span></label> <label class='tooltip'>Maertens<span class='tooltip-text' style='width:168px'>spacy:\tPERSON&nbsp;&nbsp</span></label>. &quot;None of the documents we received throughout <label class='tooltip'>the<span class='tooltip-text' style='width:154px'>spacy:\tDATE&nbsp;&nbsp</span></label> <label class='tooltip'>years<span class='tooltip-text' style='width:154px'>spacy:\tDATE&nbsp;&nbsp</span></label> from \n",
              "<mark class=\"entity\" style=\"background: #ddd; padding: 0.45em 0.6em; margin: 0 0.25em; line-height: 1; border-radius: 0.35em;\">\n",
              "    <label class='tooltip'>Gabriel<span class='tooltip-text' style='width:203px'>gazetteer:\tCOMPANY&nbsp;&nbsp<br>spacy:\tPERSON&nbsp;&nbsp</span></label>\n",
              "    <span style=\"font-size: 0.8em; font-weight: bold; line-height: 1; border-radius: 0.35em; vertical-align: middle; margin-left: 0.5rem\">COMPANY</span>\n",
              "</mark>\n",
              " or \n",
              "<mark class=\"entity\" style=\"background: #ddd; padding: 0.45em 0.6em; margin: 0 0.25em; line-height: 1; border-radius: 0.35em;\">\n",
              "    <label class='tooltip'>Ariel<span class='tooltip-text' style='width:203px'>gazetteer:\tCOMPANY&nbsp;&nbsp<br>spacy:\tPERSON&nbsp;&nbsp</span></label>\n",
              "    <span style=\"font-size: 0.8em; font-weight: bold; line-height: 1; border-radius: 0.35em; vertical-align: middle; margin-left: 0.5rem\">COMPANY</span>\n",
              "</mark>\n",
              " ever stated that <label class='tooltip'>Mr<span class='tooltip-text' style='width:168px'>spacy:\tPERSON&nbsp;&nbsp</span></label> <label class='tooltip'>Madoff<span class='tooltip-text' style='width:168px'>spacy:\tPERSON&nbsp;&nbsp</span></label> was managing <label class='tooltip'>NYU<span class='tooltip-text' style='width:147px'>spacy:\tORG&nbsp;&nbsp</span></label>'s assets.&quot; <label class='tooltip'>Merkin<span class='tooltip-text' style='width:147px'>spacy:\tORG&nbsp;&nbsp</span></label>'s lawyer, <label class='tooltip'>Andrew<span class='tooltip-text' style='width:168px'>spacy:\tPERSON&nbsp;&nbsp</span></label> <label class='tooltip'>Levander<span class='tooltip-text' style='width:168px'>spacy:\tPERSON&nbsp;&nbsp</span></label>, said in a statement that his client &quot;has always acted in \n",
              "<mark class=\"entity\" style=\"background: #ddd; padding: 0.45em 0.6em; margin: 0 0.25em; line-height: 1; border-radius: 0.35em;\">\n",
              "    <label class='tooltip'>good<span class='tooltip-text' style='width:196px'>adj_detector:\tADJ&nbsp;&nbsp</span></label>\n",
              "    <span style=\"font-size: 0.8em; font-weight: bold; line-height: 1; border-radius: 0.35em; vertical-align: middle; margin-left: 0.5rem\">ADJ</span>\n",
              "</mark>\n",
              " faith and did not deceive <label class='tooltip'>NYU<span class='tooltip-text' style='width:147px'>spacy:\tORG&nbsp;&nbsp</span></label> or any \n",
              "<mark class=\"entity\" style=\"background: #ddd; padding: 0.45em 0.6em; margin: 0 0.25em; line-height: 1; border-radius: 0.35em;\">\n",
              "    <label class='tooltip'>other<span class='tooltip-text' style='width:196px'>adj_detector:\tADJ&nbsp;&nbsp</span></label>\n",
              "    <span style=\"font-size: 0.8em; font-weight: bold; line-height: 1; border-radius: 0.35em; vertical-align: middle; margin-left: 0.5rem\">ADJ</span>\n",
              "</mark>\n",
              " investors.&quot; <label class='tooltip'>Merkin<span class='tooltip-text' style='width:147px'>spacy:\tORG&nbsp;&nbsp</span></label>'s \n",
              "<mark class=\"entity\" style=\"background: #ddd; padding: 0.45em 0.6em; margin: 0 0.25em; line-height: 1; border-radius: 0.35em;\">\n",
              "    <label class='tooltip'>personal<span class='tooltip-text' style='width:196px'>adj_detector:\tADJ&nbsp;&nbsp</span></label>\n",
              "    <span style=\"font-size: 0.8em; font-weight: bold; line-height: 1; border-radius: 0.35em; vertical-align: middle; margin-left: 0.5rem\">ADJ</span>\n",
              "</mark>\n",
              " losses from the \n",
              "<mark class=\"entity\" style=\"background: #ddd; padding: 0.45em 0.6em; margin: 0 0.25em; line-height: 1; border-radius: 0.35em;\">\n",
              "    <label class='tooltip'>purported<span class='tooltip-text' style='width:196px'>adj_detector:\tADJ&nbsp;&nbsp</span></label>\n",
              "    <span style=\"font-size: 0.8em; font-weight: bold; line-height: 1; border-radius: 0.35em; vertical-align: middle; margin-left: 0.5rem\">ADJ</span>\n",
              "</mark>\n",
              " fraud &quot;are in the \n",
              "<mark class=\"entity\" style=\"background: #ddd; padding: 0.45em 0.6em; margin: 0 0.25em; line-height: 1; border-radius: 0.35em;\">\n",
              "    <label class='tooltip'>many<span class='tooltip-text' style='width:196px'>adj_detector:\tADJ&nbsp;&nbsp</span></label>\n",
              "    <span style=\"font-size: 0.8em; font-weight: bold; line-height: 1; border-radius: 0.35em; vertical-align: middle; margin-left: 0.5rem\">ADJ</span>\n",
              "</mark>\n",
              " tens of millions of dollars...He shares the sorrow of all investors who have been cheated by <label class='tooltip'>Madoff<span class='tooltip-text' style='width:168px'>spacy:\tPERSON&nbsp;&nbsp</span></label>,&quot; the statement said. <label class='tooltip'>NYU<span class='tooltip-text' style='width:147px'>spacy:\tORG&nbsp;&nbsp</span></label> claims the title as the \n",
              "<mark class=\"entity\" style=\"background: #ddd; padding: 0.45em 0.6em; margin: 0 0.25em; line-height: 1; border-radius: 0.35em;\">\n",
              "    <label class='tooltip'>largest<span class='tooltip-text' style='width:196px'>adj_detector:\tADJ&nbsp;&nbsp</span></label>\n",
              "    <span style=\"font-size: 0.8em; font-weight: bold; line-height: 1; border-radius: 0.35em; vertical-align: middle; margin-left: 0.5rem\">ADJ</span>\n",
              "</mark>\n",
              " \n",
              "<mark class=\"entity\" style=\"background: #ddd; padding: 0.45em 0.6em; margin: 0 0.25em; line-height: 1; border-radius: 0.35em;\">\n",
              "    <label class='tooltip'>private<span class='tooltip-text' style='width:196px'>adj_detector:\tADJ&nbsp;&nbsp</span></label>\n",
              "    <span style=\"font-size: 0.8em; font-weight: bold; line-height: 1; border-radius: 0.35em; vertical-align: middle; margin-left: 0.5rem\">ADJ</span>\n",
              "</mark>\n",
              " <label class='tooltip'>U.S.<span class='tooltip-text' style='width:147px'>spacy:\tGPE&nbsp;&nbsp</span></label> university and is among \n",
              "<mark class=\"entity\" style=\"background: #ddd; padding: 0.45em 0.6em; margin: 0 0.25em; line-height: 1; border-radius: 0.35em;\">\n",
              "    <label class='tooltip'>several<span class='tooltip-text' style='width:196px'>adj_detector:\tADJ&nbsp;&nbsp</span></label>\n",
              "    <span style=\"font-size: 0.8em; font-weight: bold; line-height: 1; border-radius: 0.35em; vertical-align: middle; margin-left: 0.5rem\">ADJ</span>\n",
              "</mark>\n",
              " institutions and \n",
              "<mark class=\"entity\" style=\"background: #ddd; padding: 0.45em 0.6em; margin: 0 0.25em; line-height: 1; border-radius: 0.35em;\">\n",
              "    <label class='tooltip'>individual<span class='tooltip-text' style='width:196px'>adj_detector:\tADJ&nbsp;&nbsp</span></label>\n",
              "    <span style=\"font-size: 0.8em; font-weight: bold; line-height: 1; border-radius: 0.35em; vertical-align: middle; margin-left: 0.5rem\">ADJ</span>\n",
              "</mark>\n",
              " investors seeking to recover losses. <label class='tooltip'>Merkin<span class='tooltip-text' style='width:168px'>spacy:\tPERSON&nbsp;&nbsp</span></label> is chairman of <label class='tooltip'>GMAC<span class='tooltip-text' style='width:147px'>spacy:\tORG&nbsp;&nbsp</span></label>, the finance business owned by \n",
              "<mark class=\"entity\" style=\"background: #ddd; padding: 0.45em 0.6em; margin: 0 0.25em; line-height: 1; border-radius: 0.35em;\">\n",
              "    <label class='tooltip'>General<span class='tooltip-text' style='width:252px'>company_detector:\tCOMPANY&nbsp;&nbsp<br>spacy:\tORG&nbsp;&nbsp</span></label> <label class='tooltip'>Motors<span class='tooltip-text' style='width:252px'>company_detector:\tCOMPANY&nbsp;&nbsp<br>spacy:\tORG&nbsp;&nbsp</span></label> <label class='tooltip'>Corp<span class='tooltip-text' style='width:252px'>company_detector:\tCOMPANY&nbsp;&nbsp<br>spacy:\tORG&nbsp;&nbsp</span></label>\n",
              "    <span style=\"font-size: 0.8em; font-weight: bold; line-height: 1; border-radius: 0.35em; vertical-align: middle; margin-left: 0.5rem\">COMPANY</span>\n",
              "</mark>\n",
              " ( GM.N ) and \n",
              "<mark class=\"entity\" style=\"background: #ddd; padding: 0.45em 0.6em; margin: 0 0.25em; line-height: 1; border-radius: 0.35em;\">\n",
              "    <label class='tooltip'>private<span class='tooltip-text' style='width:196px'>adj_detector:\tADJ&nbsp;&nbsp</span></label>\n",
              "    <span style=\"font-size: 0.8em; font-weight: bold; line-height: 1; border-radius: 0.35em; vertical-align: middle; margin-left: 0.5rem\">ADJ</span>\n",
              "</mark>\n",
              " equity firm <label class='tooltip'>Cerberus<span class='tooltip-text' style='width:147px'>spacy:\tORG&nbsp;&nbsp</span></label> <label class='tooltip'>Capital<span class='tooltip-text' style='width:147px'>spacy:\tORG&nbsp;&nbsp</span></label> <label class='tooltip'>Management<span class='tooltip-text' style='width:147px'>spacy:\tORG&nbsp;&nbsp</span></label> <label class='tooltip'>LP<span class='tooltip-text' style='width:147px'>spacy:\tORG&nbsp;&nbsp</span></label> <label class='tooltip'>CBS.UL<span class='tooltip-text' style='width:147px'>spacy:\tORG&nbsp;&nbsp</span></label>. <label class='tooltip'>The<span class='tooltip-text' style='width:147px'>spacy:\tORG&nbsp;&nbsp</span></label> <label class='tooltip'>U.S.<span class='tooltip-text' style='width:147px'>spacy:\tORG&nbsp;&nbsp</span></label> <label class='tooltip'>Treasury<span class='tooltip-text' style='width:147px'>spacy:\tORG&nbsp;&nbsp</span></label> gave <label class='tooltip'>GMAC<span class='tooltip-text' style='width:147px'>spacy:\tORG&nbsp;&nbsp</span></label> <label class='tooltip'>$<span class='tooltip-text' style='width:161px'>spacy:\tMONEY&nbsp;&nbsp</span></label><label class='tooltip'>5<span class='tooltip-text' style='width:161px'>spacy:\tMONEY&nbsp;&nbsp</span></label> \n",
              "<mark class=\"entity\" style=\"background: #ddd; padding: 0.45em 0.6em; margin: 0 0.25em; line-height: 1; border-radius: 0.35em;\">\n",
              "    <label class='tooltip'>billion<span class='tooltip-text' style='width:210px'>unit_detector:\tUNIT&nbsp;&nbsp<br>spacy:\tMONEY&nbsp;&nbsp</span></label>\n",
              "    <span style=\"font-size: 0.8em; font-weight: bold; line-height: 1; border-radius: 0.35em; vertical-align: middle; margin-left: 0.5rem\">UNIT</span>\n",
              "</mark>\n",
              " from its <label class='tooltip'>$<span class='tooltip-text' style='width:161px'>spacy:\tMONEY&nbsp;&nbsp</span></label><label class='tooltip'>700<span class='tooltip-text' style='width:161px'>spacy:\tMONEY&nbsp;&nbsp</span></label> \n",
              "<mark class=\"entity\" style=\"background: #ddd; padding: 0.45em 0.6em; margin: 0 0.25em; line-height: 1; border-radius: 0.35em;\">\n",
              "    <label class='tooltip'>billion<span class='tooltip-text' style='width:210px'>unit_detector:\tUNIT&nbsp;&nbsp<br>spacy:\tMONEY&nbsp;&nbsp</span></label>\n",
              "    <span style=\"font-size: 0.8em; font-weight: bold; line-height: 1; border-radius: 0.35em; vertical-align: middle; margin-left: 0.5rem\">UNIT</span>\n",
              "</mark>\n",
              " Troubled Asset Relief Program on \n",
              "<mark class=\"entity\" style=\"background: #ddd; padding: 0.45em 0.6em; margin: 0 0.25em; line-height: 1; border-radius: 0.35em;\">\n",
              "    <label class='tooltip'>December<span class='tooltip-text' style='width:224px'>month_detector:\tMONTH&nbsp;&nbsp<br>spacy:\tDATE&nbsp;&nbsp</span></label>\n",
              "    <span style=\"font-size: 0.8em; font-weight: bold; line-height: 1; border-radius: 0.35em; vertical-align: middle; margin-left: 0.5rem\">MONTH</span>\n",
              "</mark>\n",
              " <label class='tooltip'>29<span class='tooltip-text' style='width:154px'>spacy:\tDATE&nbsp;&nbsp</span></label>. <label class='tooltip'>Five<span class='tooltip-text' style='width:154px'>spacy:\tDATE&nbsp;&nbsp</span></label> <label class='tooltip'>days<span class='tooltip-text' style='width:154px'>spacy:\tDATE&nbsp;&nbsp</span></label> <label class='tooltip'>earlier<span class='tooltip-text' style='width:154px'>spacy:\tDATE&nbsp;&nbsp</span></label>, <label class='tooltip'>the<span class='tooltip-text' style='width:147px'>spacy:\tORG&nbsp;&nbsp</span></label> <label class='tooltip'>Federal<span class='tooltip-text' style='width:147px'>spacy:\tORG&nbsp;&nbsp</span></label> <label class='tooltip'>Reserve<span class='tooltip-text' style='width:147px'>spacy:\tORG&nbsp;&nbsp</span></label> granted <label class='tooltip'>GMAC<span class='tooltip-text' style='width:147px'>spacy:\tORG&nbsp;&nbsp</span></label> bank holding company status so it could get access to the bailout money. <label class='tooltip'>Merkin<span class='tooltip-text' style='width:168px'>spacy:\tPERSON&nbsp;&nbsp</span></label> has also been sued in \n",
              "<mark class=\"entity\" style=\"background: #ddd; padding: 0.45em 0.6em; margin: 0 0.25em; line-height: 1; border-radius: 0.35em;\">\n",
              "    <label class='tooltip'>U.S.<span class='tooltip-text' style='width:280px'>other_org_detector:\tOTHER_ORG&nbsp;&nbsp<br>gazetteer:\tCOMPANY&nbsp;&nbsp<br>spacy:\tGPE&nbsp;&nbsp</span></label> <label class='tooltip'>District<span class='tooltip-text' style='width:280px'>other_org_detector:\tOTHER_ORG&nbsp;&nbsp<br>gazetteer:\tCOMPANY&nbsp;&nbsp<br>spacy:\tORG&nbsp;&nbsp</span></label> <label class='tooltip'>Court<span class='tooltip-text' style='width:280px'>other_org_detector:\tOTHER_ORG&nbsp;&nbsp<br>gazetteer:\tCOMPANY&nbsp;&nbsp<br>spacy:\tORG&nbsp;&nbsp</span></label>\n",
              "    <span style=\"font-size: 0.8em; font-weight: bold; line-height: 1; border-radius: 0.35em; vertical-align: middle; margin-left: 0.5rem\">OTHER_ORG</span>\n",
              "</mark>\n",
              " in <label class='tooltip'>Manhattan<span class='tooltip-text' style='width:147px'>spacy:\tGPE&nbsp;&nbsp</span></label> for his management of <label class='tooltip'>Ascot<span class='tooltip-text' style='width:147px'>spacy:\tORG&nbsp;&nbsp</span></label> <label class='tooltip'>Partners<span class='tooltip-text' style='width:147px'>spacy:\tORG&nbsp;&nbsp</span></label> <label class='tooltip'>LLP<span class='tooltip-text' style='width:147px'>spacy:\tORG&nbsp;&nbsp</span></label>, a fund he founded that lost <label class='tooltip'>an<span class='tooltip-text' style='width:161px'>spacy:\tMONEY&nbsp;&nbsp</span></label> <label class='tooltip'>estimated<span class='tooltip-text' style='width:161px'>spacy:\tMONEY&nbsp;&nbsp</span></label> <label class='tooltip'>$<span class='tooltip-text' style='width:161px'>spacy:\tMONEY&nbsp;&nbsp</span></label><label class='tooltip'>1.8<span class='tooltip-text' style='width:161px'>spacy:\tMONEY&nbsp;&nbsp</span></label> \n",
              "<mark class=\"entity\" style=\"background: #ddd; padding: 0.45em 0.6em; margin: 0 0.25em; line-height: 1; border-radius: 0.35em;\">\n",
              "    <label class='tooltip'>billion<span class='tooltip-text' style='width:210px'>unit_detector:\tUNIT&nbsp;&nbsp<br>spacy:\tMONEY&nbsp;&nbsp</span></label>\n",
              "    <span style=\"font-size: 0.8em; font-weight: bold; line-height: 1; border-radius: 0.35em; vertical-align: middle; margin-left: 0.5rem\">UNIT</span>\n",
              "</mark>\n",
              " with <label class='tooltip'>Madoff<span class='tooltip-text' style='width:147px'>spacy:\tGPE&nbsp;&nbsp</span></label>. Madoff, <label class='tooltip'>70<span class='tooltip-text' style='width:154px'>spacy:\tDATE&nbsp;&nbsp</span></label>, was arrested on \n",
              "<mark class=\"entity\" style=\"background: #ddd; padding: 0.45em 0.6em; margin: 0 0.25em; line-height: 1; border-radius: 0.35em;\">\n",
              "    <label class='tooltip'>December<span class='tooltip-text' style='width:224px'>month_detector:\tMONTH&nbsp;&nbsp<br>spacy:\tDATE&nbsp;&nbsp</span></label>\n",
              "    <span style=\"font-size: 0.8em; font-weight: bold; line-height: 1; border-radius: 0.35em; vertical-align: middle; margin-left: 0.5rem\">MONTH</span>\n",
              "</mark>\n",
              " <label class='tooltip'>11<span class='tooltip-text' style='width:154px'>spacy:\tDATE&nbsp;&nbsp</span></label> and charged with securities fraud. He is under house arrest in his <label class='tooltip'>Manhattan<span class='tooltip-text' style='width:147px'>spacy:\tGPE&nbsp;&nbsp</span></label> apartment on <label class='tooltip'>$<span class='tooltip-text' style='width:161px'>spacy:\tMONEY&nbsp;&nbsp</span></label><label class='tooltip'>10<span class='tooltip-text' style='width:161px'>spacy:\tMONEY&nbsp;&nbsp</span></label> \n",
              "<mark class=\"entity\" style=\"background: #ddd; padding: 0.45em 0.6em; margin: 0 0.25em; line-height: 1; border-radius: 0.35em;\">\n",
              "    <label class='tooltip'>million<span class='tooltip-text' style='width:210px'>unit_detector:\tUNIT&nbsp;&nbsp<br>spacy:\tMONEY&nbsp;&nbsp</span></label>\n",
              "    <span style=\"font-size: 0.8em; font-weight: bold; line-height: 1; border-radius: 0.35em; vertical-align: middle; margin-left: 0.5rem\">UNIT</span>\n",
              "</mark>\n",
              " bail. On <label class='tooltip'>Monday<span class='tooltip-text' style='width:154px'>spacy:\tDATE&nbsp;&nbsp</span></label>, <label class='tooltip'>U.S.<span class='tooltip-text' style='width:147px'>spacy:\tGPE&nbsp;&nbsp</span></label> prosecutors sought to jail him, saying he had mailed jewelry and \n",
              "<mark class=\"entity\" style=\"background: #ddd; padding: 0.45em 0.6em; margin: 0 0.25em; line-height: 1; border-radius: 0.35em;\">\n",
              "    <label class='tooltip'>other<span class='tooltip-text' style='width:196px'>adj_detector:\tADJ&nbsp;&nbsp</span></label>\n",
              "    <span style=\"font-size: 0.8em; font-weight: bold; line-height: 1; border-radius: 0.35em; vertical-align: middle; margin-left: 0.5rem\">ADJ</span>\n",
              "</mark>\n",
              " valuables to family and friends in violation of a court order freezing all his belongings. A judge has not yet issued a ruling on the government's request. The case is \n",
              "<mark class=\"entity\" style=\"background: #ddd; padding: 0.45em 0.6em; margin: 0 0.25em; line-height: 1; border-radius: 0.35em;\">\n",
              "    <label class='tooltip'>New<span class='tooltip-text' style='width:280px'>other_org_detector:\tOTHER_ORG&nbsp;&nbsp<br>spacy:\tORG&nbsp;&nbsp</span></label> <label class='tooltip'>York<span class='tooltip-text' style='width:280px'>other_org_detector:\tOTHER_ORG&nbsp;&nbsp<br>spacy:\tORG&nbsp;&nbsp</span></label> <label class='tooltip'>University<span class='tooltip-text' style='width:280px'>other_org_detector:\tOTHER_ORG&nbsp;&nbsp<br>spacy:\tORG&nbsp;&nbsp</span></label>\n",
              "    <span style=\"font-size: 0.8em; font-weight: bold; line-height: 1; border-radius: 0.35em; vertical-align: middle; margin-left: 0.5rem\">OTHER_ORG</span>\n",
              "</mark>\n",
              " v. \n",
              "<mark class=\"entity\" style=\"background: #ddd; padding: 0.45em 0.6em; margin: 0 0.25em; line-height: 1; border-radius: 0.35em;\">\n",
              "    <label class='tooltip'>Ariel<span class='tooltip-text' style='width:252px'>company_detector:\tCOMPANY&nbsp;&nbsp<br>spacy:\tPERSON&nbsp;&nbsp</span></label> <label class='tooltip'>Fund<span class='tooltip-text' style='width:252px'>company_detector:\tCOMPANY&nbsp;&nbsp<br>spacy:\tPERSON&nbsp;&nbsp</span></label> <label class='tooltip'>Ltd<span class='tooltip-text' style='width:252px'>company_detector:\tCOMPANY&nbsp;&nbsp<br>spacy:\tPERSON&nbsp;&nbsp</span></label>\n",
              "    <span style=\"font-size: 0.8em; font-weight: bold; line-height: 1; border-radius: 0.35em; vertical-align: middle; margin-left: 0.5rem\">COMPANY</span>\n",
              "</mark>\n",
              " 08- <label class='tooltip'>08603803<span class='tooltip-text' style='width:154px'>spacy:\tDATE&nbsp;&nbsp</span></label> in \n",
              "<mark class=\"entity\" style=\"background: #ddd; padding: 0.45em 0.6em; margin: 0 0.25em; line-height: 1; border-radius: 0.35em;\">\n",
              "    <label class='tooltip'>New<span class='tooltip-text' style='width:280px'>other_org_detector:\tOTHER_ORG&nbsp;&nbsp<br>spacy:\tGPE&nbsp;&nbsp</span></label> <label class='tooltip'>York<span class='tooltip-text' style='width:280px'>other_org_detector:\tOTHER_ORG&nbsp;&nbsp<br>spacy:\tGPE&nbsp;&nbsp</span></label> <label class='tooltip'>State<span class='tooltip-text' style='width:280px'>other_org_detector:\tOTHER_ORG&nbsp;&nbsp<br>spacy:\tGPE&nbsp;&nbsp</span></label> <label class='tooltip'>Supreme<span class='tooltip-text' style='width:280px'>other_org_detector:\tOTHER_ORG&nbsp;&nbsp<br>spacy:\tGPE&nbsp;&nbsp</span></label> <label class='tooltip'>Court<span class='tooltip-text' style='width:280px'>other_org_detector:\tOTHER_ORG&nbsp;&nbsp<br>spacy:\tGPE&nbsp;&nbsp</span></label>\n",
              "    <span style=\"font-size: 0.8em; font-weight: bold; line-height: 1; border-radius: 0.35em; vertical-align: middle; margin-left: 0.5rem\">OTHER_ORG</span>\n",
              "</mark>\n",
              " (<label class='tooltip'>Manhattan<span class='tooltip-text' style='width:147px'>spacy:\tGPE&nbsp;&nbsp</span></label>) </div></span>"
            ]
          },
          "metadata": {}
        }
      ],
      "source": [
        "skweak.utils.display_entities(docs[28], \"hmm\", add_tooltip=True) "
      ]
    },
    {
      "cell_type": "markdown",
      "metadata": {
        "id": "yfhYAiCyc87V"
      },
      "source": [
        "<br>\n",
        "\n",
        "## Step 3: Training the final model\n",
        "    \n",
        "Once we have finished labelling the corpus, we can then train any type of machine learning model on it!"
      ]
    },
    {
      "cell_type": "code",
      "execution_count": 61,
      "metadata": {
        "id": "OarEU93Vc87W",
        "outputId": "d30a47ff-117f-4efc-d4b0-113d08539254",
        "colab": {
          "base_uri": "https://localhost:8080/"
        }
      },
      "outputs": [
        {
          "output_type": "stream",
          "name": "stdout",
          "text": [
            "Write to reuters_small.spacy...done\n"
          ]
        }
      ],
      "source": [
        "for doc in docs:\n",
        "    doc.ents = doc.spans[\"hmm\"]\n",
        "skweak.utils.docbin_writer(docs, \"reuters_small.spacy\")"
      ]
    },
    {
      "cell_type": "markdown",
      "source": [
        "#### Getting the best-model\n",
        "The code below allows one to optimize the pre-trained hmm model which was passed estimated parameters. We can further fine-tune the model and get the optimal accuracy of the model through the EM iterations. "
      ],
      "metadata": {
        "id": "zy6PKwA7mTQN"
      }
    },
    {
      "cell_type": "code",
      "execution_count": 62,
      "metadata": {
        "id": "MMHCJ6CVc87Y",
        "outputId": "259c4e0e-3058-48d8-c007-d96764e85e3b",
        "colab": {
          "base_uri": "https://localhost:8080/"
        }
      },
      "outputs": [
        {
          "output_type": "stream",
          "name": "stdout",
          "text": [
            "\u001b[38;5;4mℹ Saving to output directory: content/reuters_small\u001b[0m\n",
            "\u001b[38;5;4mℹ Using CPU\u001b[0m\n",
            "\u001b[1m\n",
            "=========================== Initializing pipeline ===========================\u001b[0m\n",
            "[2022-04-23 08:38:49,511] [INFO] Set up nlp object from config\n",
            "[2022-04-23 08:38:49,523] [INFO] Pipeline: ['tok2vec', 'ner']\n",
            "[2022-04-23 08:38:49,528] [INFO] Created vocabulary\n",
            "[2022-04-23 08:38:51,048] [INFO] Added vectors: en_core_web_md\n",
            "[2022-04-23 08:38:51,204] [INFO] Finished initializing nlp object\n",
            "[2022-04-23 08:39:01,362] [INFO] Initialized pipeline components: ['tok2vec', 'ner']\n",
            "\u001b[38;5;2m✔ Initialized pipeline\u001b[0m\n",
            "\u001b[1m\n",
            "============================= Training pipeline =============================\u001b[0m\n",
            "\u001b[38;5;4mℹ Pipeline: ['tok2vec', 'ner']\u001b[0m\n",
            "\u001b[38;5;4mℹ Initial learn rate: 0.001\u001b[0m\n",
            "E    #       LOSS TOK2VEC  LOSS NER  ENTS_F  ENTS_P  ENTS_R  SCORE \n",
            "---  ------  ------------  --------  ------  ------  ------  ------\n",
            "  0       0          0.00    101.68    0.00    0.00    0.00    0.00\n",
            "  1     200        473.32   9988.82   88.80   89.15   88.45    0.89\n",
            "  2     400        114.51   3801.07   91.06   95.00   87.43    0.91\n",
            "  3     600         89.99   2535.98   94.65   92.70   96.68    0.95\n",
            "  4     800         74.67   1704.01   95.44   93.86   97.08    0.95\n",
            "  5    1000         94.62   1511.73   97.15   97.06   97.24    0.97\n",
            "  6    1200        102.97   1107.23   96.07   98.10   94.12    0.96\n",
            "  7    1400        126.09    999.26   97.99   97.71   98.27    0.98\n",
            "  8    1600        186.98    865.22   97.78   98.88   96.69    0.98\n",
            "  9    1800        196.45    762.43   98.01   99.06   96.98    0.98\n",
            " 10    2000        293.28    697.44   98.15   97.56   98.73    0.98\n",
            " 11    2200        313.11    808.21   98.48   99.01   97.96    0.98\n",
            " 12    2400        297.84    638.58   98.86   98.80   98.91    0.99\n",
            " 13    2600        263.05    470.78   99.10   98.88   99.32    0.99\n",
            " 14    2800        352.57    423.27   98.97   98.77   99.16    0.99\n",
            " 15    3000        440.05    532.96   98.97   99.11   98.82    0.99\n",
            " 16    3200        380.00    419.30   99.33   99.35   99.31    0.99\n",
            " 17    3400        405.02    412.97   99.28   99.20   99.35    0.99\n",
            " 18    3600        407.60    359.60   99.29   99.07   99.52    0.99\n",
            " 19    3800        394.55    307.39   99.19   99.09   99.30    0.99\n",
            " 20    4000        835.68    383.40   99.42   99.54   99.30    0.99\n",
            " 21    4200        563.31    321.59   99.25   99.37   99.13    0.99\n",
            " 22    4400        781.61    337.29   99.41   99.17   99.64    0.99\n",
            " 23    4600        765.87    356.13   99.31   99.31   99.31    0.99\n",
            " 24    4800        511.33    292.79   99.03   99.28   98.78    0.99\n",
            " 25    5000       1305.74    390.75   99.08   98.73   99.42    0.99\n",
            " 26    5200        550.21    301.94   99.43   99.65   99.20    0.99\n",
            " 28    5400       1978.94    330.27   99.32   99.54   99.09    0.99\n",
            " 29    5600        880.53    240.44   99.59   99.55   99.62    1.00\n",
            " 30    5800        508.25    214.35   99.67   99.73   99.62    1.00\n",
            " 31    6000        658.35    238.38   99.38   99.46   99.30    0.99\n",
            " 32    6200       1129.29    310.80   99.61   99.52   99.69    1.00\n",
            " 33    6400        899.88    255.52   99.58   99.56   99.60    1.00\n",
            " 34    6600       2528.67    309.45   98.96   99.06   98.85    0.99\n",
            " 36    6800        613.36    231.31   99.56   99.44   99.67    1.00\n",
            " 37    7000       1095.47    171.70   99.47   99.28   99.65    0.99\n",
            " 38    7200        654.35    161.81   99.81   99.81   99.81    1.00\n",
            " 40    7400       3054.45    222.93   99.77   99.84   99.71    1.00\n",
            " 41    7600       3617.33    236.31   99.83   99.84   99.81    1.00\n",
            " 43    7800       1248.84    207.87   99.72   99.62   99.83    1.00\n",
            " 45    8000       2084.94    250.16   99.78   99.80   99.75    1.00\n",
            " 46    8200       1860.17    179.95   99.80   99.83   99.78    1.00\n",
            " 48    8400       4776.62    239.59   99.80   99.84   99.76    1.00\n",
            " 49    8600       2167.61    140.65   99.69   99.55   99.84    1.00\n",
            " 51    8800       1191.93    196.35   99.83   99.84   99.81    1.00\n",
            " 52    9000       2173.08    177.61   99.81   99.86   99.77    1.00\n",
            " 54    9200        332.60     96.05   99.82   99.85   99.79    1.00\n",
            "\u001b[38;5;2m✔ Saved pipeline to output directory\u001b[0m\n",
            "content/reuters_small/model-last\n"
          ]
        }
      ],
      "source": [
        "!spacy init config - --lang en --pipeline ner --optimize accuracy | \\\n",
        "spacy train - --paths.train /content/reuters_small.spacy  --paths.dev /content/reuters_small.spacy \\\n",
        "--initialize.vectors en_core_web_md --output content/reuters_small\n"
      ]
    },
    {
      "cell_type": "markdown",
      "metadata": {
        "id": "oWDFIdkOc87a"
      },
      "source": [
        "This above implementation was  a very short example. Please look at domain-specific Jupyter notebooks in `src/NER_step_by_step.ipynb` for more implementations.\n",
        "\n",
        "## Experimental Results\n",
        "\n",
        "As previously mentioned, sweak can be used for both text classification and NER. We will briefly discuss the NER task and the results obtained in the original paper for their NER implementation.\n",
        "\n",
        "* Dataset used: MUC-6 corpus with 318 Wall Street Journal Articles annotated with 7 entity types: LOCATION, ORGANIATION, PERSON, MONEY, DATE, TIME, PERCENT\n",
        "\n",
        "* 52 labelling functions created:\n",
        "     * For detecting dates, time, money amounts, cardinal/ordinal values, %, dictionary of common first names, detecting company names, NNP part-of-speech tags\n",
        "     * Neural models trained on the Broad Twitter Corpus, and ConLL2003\n",
        "     * Document-level labelling functions specified for majority labels for given entity \n",
        "\n",
        "**Results** \n",
        "\n",
        "![ner_scores.PNG] (\\fig\\ner_scores.PNG)\n",
        "\n",
        "They evaulated the model using Micro-averaged F1 scores. F1 scores can help identify the whether there is a good balance between precision and recall. The Micro-averaged F1 score is  used for multi-label binary problems and it is simily the harmonic mean of the micro-average precision & recall. The F1 scores were evaluated at both the token and entity level. When using the predicted named-entities for downstream tasks, it is more useful to evaluate with metrics at a full named-entity level.For example \"New York\" evaluated at the token level will be split into two, however at the entity level shuold be counted as a whole.\n",
        "\n",
        "As a baseline, the results obtained by aggregating all labelling functions using\n",
        "a majority voter (e.g. a token/entity taking the label that is assigned most frequently by each labelling function).Then the hmm model was evaluated by taking different subsets of labelling functions. A noteworthy observation is that heuristics outperform pre-trained NER models and gazetteers when properly identified. They are simple yet powerful labelling functions. Also, it seems that doc-level constraints did not have a major impact on the F1 score at either the entity/token level. The final line indicates the results using a neural NER model trained on the HMM-aggregated labels (with all labelling functions). This model is composed of four convolutional layers with residual connections. A noteworthy observation is how the models are consistenly worse off when evaluated at the entity level as opposed to the token level. \n"
      ]
    },
    {
      "cell_type": "markdown",
      "metadata": {
        "id": "FQt-eRyyc87a"
      },
      "source": [
        "# Conclusion and Future Direction\n",
        "\n",
        "\n",
        "**Conclusion**\n",
        "\n",
        "Skweak toolkit helps to obtain labelled data using weak supervision eliminating manual labelling. By simply definingly  labelling functions and aggregate their results in a few lines of code we are able to create aggregated labels. skweak can be used for both sequence labelling and text classification.\n",
        "\n",
        "\n",
        "**Future Direction**\n",
        "\n",
        "The skweak implementation can be further improved by learning from teh more mature implementation of Snorkel. It can look to implement semi-supervised learning approches into their current implementation, and further more implement multi-task weak supervision.\n",
        "\n",
        "\n",
        "**Lessons Learned**\n",
        "\n",
        "Weak supervision is a state-of-the-art methodology used in Natural Language Processing of unlabelled data. Through a review of this paper, we now understand what weak supervision is and how it is implemented, how labelling functions can help extract labels from unlabelled data, how skweak libraries can be used for Named Entity Recognition. We were able to identify parallels and differences from other articles that use weak supervision and understand that there are more mature Weak Supervision toolkits available for use."
      ]
    },
    {
      "cell_type": "markdown",
      "metadata": {
        "id": "4WMC6KY8c87c"
      },
      "source": [
        "# References:\n",
        "\n",
        "[1]: Ratner, Alexander, et al. “Snorkel: Rapid Training Data Creation with Weak Supervision.” ArXiv.org, 28 Nov. 2017, https://arxiv.org/abs/1711.10160. \n",
        "\n",
        "[2]: Fries,J., Sen Wu, Alex Ratner, and Christopher Re. 2017. Swellshark: A generative model for biomedical named entity recognition without labeled data.\n",
        "\n",
        "[3]: Fu, Daniel Y., et al. “Fast and Three-Rious: Speeding up Weak Supervision with Triplet Methods.” ArXiv.org, 15 July 2020, https://arxiv.org/abs/2002.11955. \n",
        "\n",
        "[4]: Esteban Safranchik, Shiying Luo, and Stephen H. Bach.\n",
        "2020b. Weakly supervised sequence tagging from\n",
        "noisy rules. In AAAI Conference on Artificial Intelligence (AAAI). https://cs.brown.edu/people/sbach/files/safranchik-aaai20.pdf. \n",
        " \n",
        "[5]: P. Lison Skweak: Weak Supervision Made Easy for NLP - Arxiv.org. https://arxiv.org/pdf/2104.09683v1. \n",
        "\n",
        "[6]: “Spacy 101: Everything You Need to Know · Spacy Usage Documentation.” SpaCy 101: Everything You Need to Know, https://spacy.io/usage/spacy-101. \n",
        "\n",
        "[7]: Tran, Khuyen. “Snorkel - Programmatically Build Training Data in Python.” Medium, Towards Data Science, 30 Jan. 2022, https://towardsdatascience.com/snorkel-programmatically-build-training-data-in-python-712fc39649fe. \n",
        "\n",
        "[8]: Dasagrandhi, Charan Sai. “Understanding Named Entity Recognition Pre-Trained Models.” Blog, https://blog.vsoftconsulting.com/blog/understanding-named-entity-recognition-pre-trained-models#:~:text=Named%20Entity%20Recognition%20(NER)%20is,entity%20chunking%20and%20entity%20extraction. \n",
        "\n",
        "[9]:Pierre Lison, Jeremy Barnes, Aliaksandr Hubin, and Samia Touileb. 2020. Named entity recognition without labelled data: A weak supervision approach.\n",
        "In Proceedings of the 58th Annual Meeting of the Association for Computational Linguistics, pages 1518–1533, https://aclanthology.org/2020.acl-main.139.pdf. Association for Computational Linguistics.\n"
      ]
    }
  ],
  "metadata": {
    "kernelspec": {
      "display_name": "Python 3",
      "language": "python",
      "name": "python3"
    },
    "language_info": {
      "codemirror_mode": {
        "name": "ipython",
        "version": 3
      },
      "file_extension": ".py",
      "mimetype": "text/x-python",
      "name": "python",
      "nbconvert_exporter": "python",
      "pygments_lexer": "ipython3",
      "version": "3.8.3"
    },
    "colab": {
      "name": "Weak_Supervision_Final_Project.ipynb",
      "provenance": []
    }
  },
  "nbformat": 4,
  "nbformat_minor": 0
}
